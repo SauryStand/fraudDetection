{
 "cells": [
  {
   "cell_type": "code",
   "execution_count": 1,
   "metadata": {
    "_cell_guid": "b1076dfc-b9ad-4769-8c92-a6c4dae69d19",
    "_uuid": "8f2839f25d086af736a60e9eeb907d3b93b6e0e5"
   },
   "outputs": [
    {
     "name": "stdout",
     "output_type": "stream",
     "text": [
      "/kaggle/working/__notebook_source__.ipynb\n"
     ]
    }
   ],
   "source": [
    "# This Python 3 environment comes with many helpful analytics libraries installed\n",
    "# It is defined by the kaggle/python Docker image: https://github.com/kaggle/docker-python\n",
    "# For example, here's several helpful packages to load\n",
    "\n",
    "import numpy as np # linear algebra\n",
    "import pandas as pd # data processing, CSV file I/O (e.g. pd.read_csv)\n",
    "\n",
    "# Input data files are available in the read-only \"../input/\" directory\n",
    "# For example, running this (by clicking run or pressing Shift+Enter) will list all files under the input directory\n",
    "\n",
    "import os\n",
    "# for dirname, _, filenames in os.walk('/kaggle/input'):\n",
    "#     for filename in filenames:\n",
    "#         print(os.path.join(dirname, filename))\n",
    "\n",
    "# You can write up to 5GB to the current directory (/kaggle/working/) that gets preserved as output when you create a version using \"Save & Run All\" \n",
    "# You can also write temporary files to /kaggle/temp/, but they won't be saved outside of the current session\n",
    "\n",
    "for dirname, _, filenames in os.walk('/kaggle/working'):\n",
    "    for filename in filenames:\n",
    "        print(os.path.join(dirname, filename))"
   ]
  },
  {
   "cell_type": "code",
   "execution_count": 1,
   "metadata": {
    "_cell_guid": "79c7e3d0-c299-4dcb-8224-4455121ee9b0",
    "_uuid": "d629ff2d2480ee46fbb7e2d37f6b5fab8052498a"
   },
   "outputs": [],
   "source": [
    "import re\n",
    "import pandas as pd \n",
    "from nltk.corpus import stopwords\n",
    "import numpy as np\n",
    "import sklearn\n",
    "import nltk\n",
    "from sklearn.naive_bayes import MultinomialNB\n",
    "from sklearn.linear_model import LogisticRegression\n",
    "from sklearn.metrics import accuracy_score ,confusion_matrix\n",
    "\n",
    "import matplotlib.pyplot as plt\n",
    "import seaborn as sns\n",
    "%matplotlib inline \n",
    "import warnings\n",
    "warnings.filterwarnings('ignore')\n",
    "\n",
    "from PIL import Image\n",
    "from wordcloud import WordCloud, STOPWORDS, ImageColorGenerator\n",
    "\n"
   ]
  },
  {
   "cell_type": "code",
   "execution_count": 2,
   "metadata": {},
   "outputs": [],
   "source": [
    "import numpy as np\n",
    "import pandas as pd\n",
    "\n",
    "import os\n",
    "import math\n",
    "import time\n",
    "\n",
    "import matplotlib.pyplot as plt\n",
    "import seaborn as sns\n",
    "#import plotly.figure_factory as ff\n",
    "#from plotly import graph_objs as go\n",
    "#import plotly.express as px\n",
    "\n",
    "# Below libraries are for text processing using NLTK\n",
    "from nltk.corpus import stopwords\n",
    "from nltk.tokenize import word_tokenize\n",
    "from nltk.stem import WordNetLemmatizer\n",
    "\n",
    "# Below libraries are for feature representation using sklearn\n",
    "from sklearn.feature_extraction.text import CountVectorizer\n",
    "from sklearn.feature_extraction.text import TfidfVectorizer\n",
    "\n",
    "# Below libraries are for similarity matrices using sklearn\n",
    "from sklearn.metrics.pairwise import cosine_similarity  \n",
    "from sklearn.metrics import pairwise_distances\n",
    "\n",
    "from IPython.display import HTML, Image"
   ]
  },
  {
   "cell_type": "code",
   "execution_count": null,
   "metadata": {},
   "outputs": [],
   "source": [
    "#第一步的流程是数据获取，我们从kaggle这里找到数据集（reference要做数据集的引用）\n",
    "# 提及columns，原始数据怎么怎么滴\n",
    "#接下来就到数据清洗\n",
    "news = pd.read_json('/kaggle/input/news-category-dataset/News_Category_Dataset_v2.json', lines=True)\n",
    "news['information'] = news[['headline', 'short_description']].apply(lambda x: ' '.join(x), axis=1) # 这步看别人的做法也是合并，我们也可以合并"
   ]
  },
  {
   "cell_type": "code",
   "execution_count": 3,
   "metadata": {},
   "outputs": [],
   "source": [
    "news = pd.read_csv(r\"\\\\filestore.soton.ac.uk\\users\\jz3f19\\mydocuments\\temp_folders\\raw_news_df.csv\")"
   ]
  },
  {
   "cell_type": "code",
   "execution_count": 3,
   "metadata": {},
   "outputs": [],
   "source": [
    "#news_2 = pd.read_csv(\"/kaggle/input/middle-news-2-df/middle_news_2_df.csv\") \n",
    "news_2 = pd.read_csv(r\"\\\\filestore.soton.ac.uk\\users\\jz3f19\\mydocuments\\temp_folders\\middle_news_2_df.csv\") \n",
    "#用这个数据集来验证数据过少的问题\n",
    "#目前找到的这个数据集有个缺点是类别太少了"
   ]
  },
  {
   "cell_type": "code",
   "execution_count": 12,
   "metadata": {},
   "outputs": [
    {
     "data": {
      "text/html": [
       "<div>\n",
       "<style scoped>\n",
       "    .dataframe tbody tr th:only-of-type {\n",
       "        vertical-align: middle;\n",
       "    }\n",
       "\n",
       "    .dataframe tbody tr th {\n",
       "        vertical-align: top;\n",
       "    }\n",
       "\n",
       "    .dataframe thead th {\n",
       "        text-align: right;\n",
       "    }\n",
       "</style>\n",
       "<table border=\"1\" class=\"dataframe\">\n",
       "  <thead>\n",
       "    <tr style=\"text-align: right;\">\n",
       "      <th></th>\n",
       "      <th>Unnamed: 0</th>\n",
       "      <th>ID</th>\n",
       "      <th>TITLE</th>\n",
       "      <th>URL</th>\n",
       "      <th>PUBLISHER</th>\n",
       "      <th>CATEGORY</th>\n",
       "      <th>STORY</th>\n",
       "      <th>HOSTNAME</th>\n",
       "      <th>TIMESTAMP</th>\n",
       "    </tr>\n",
       "  </thead>\n",
       "  <tbody>\n",
       "    <tr>\n",
       "      <td>0</td>\n",
       "      <td>0</td>\n",
       "      <td>1</td>\n",
       "      <td>Fed official says weak data caused by weather ...</td>\n",
       "      <td>http://www.latimes.com/business/money/la-fi-mo...</td>\n",
       "      <td>Los Angeles Times</td>\n",
       "      <td>b</td>\n",
       "      <td>ddUyU0VZz0BRneMioxUPQVP6sIxvM</td>\n",
       "      <td>www.latimes.com</td>\n",
       "      <td>1394470370698</td>\n",
       "    </tr>\n",
       "    <tr>\n",
       "      <td>1</td>\n",
       "      <td>1</td>\n",
       "      <td>2</td>\n",
       "      <td>Fed s Charles Plosser sees high bar for change...</td>\n",
       "      <td>http://www.livemint.com/Politics/H2EvwJSK2VE6O...</td>\n",
       "      <td>Livemint</td>\n",
       "      <td>b</td>\n",
       "      <td>ddUyU0VZz0BRneMioxUPQVP6sIxvM</td>\n",
       "      <td>www.livemint.com</td>\n",
       "      <td>1394470371207</td>\n",
       "    </tr>\n",
       "    <tr>\n",
       "      <td>2</td>\n",
       "      <td>2</td>\n",
       "      <td>3</td>\n",
       "      <td>US open  Stocks fall after Fed official hints ...</td>\n",
       "      <td>http://www.ifamagazine.com/news/us-open-stocks...</td>\n",
       "      <td>IFA Magazine</td>\n",
       "      <td>b</td>\n",
       "      <td>ddUyU0VZz0BRneMioxUPQVP6sIxvM</td>\n",
       "      <td>www.ifamagazine.com</td>\n",
       "      <td>1394470371550</td>\n",
       "    </tr>\n",
       "    <tr>\n",
       "      <td>3</td>\n",
       "      <td>3</td>\n",
       "      <td>4</td>\n",
       "      <td>Fed risks falling  behind the curve   Charles ...</td>\n",
       "      <td>http://www.ifamagazine.com/news/fed-risks-fall...</td>\n",
       "      <td>IFA Magazine</td>\n",
       "      <td>b</td>\n",
       "      <td>ddUyU0VZz0BRneMioxUPQVP6sIxvM</td>\n",
       "      <td>www.ifamagazine.com</td>\n",
       "      <td>1394470371793</td>\n",
       "    </tr>\n",
       "    <tr>\n",
       "      <td>4</td>\n",
       "      <td>4</td>\n",
       "      <td>5</td>\n",
       "      <td>Fed s Plosser  Nasty Weather Has Curbed Job Gr...</td>\n",
       "      <td>http://www.moneynews.com/Economy/federal-reser...</td>\n",
       "      <td>Moneynews</td>\n",
       "      <td>b</td>\n",
       "      <td>ddUyU0VZz0BRneMioxUPQVP6sIxvM</td>\n",
       "      <td>www.moneynews.com</td>\n",
       "      <td>1394470372027</td>\n",
       "    </tr>\n",
       "    <tr>\n",
       "      <td>...</td>\n",
       "      <td>...</td>\n",
       "      <td>...</td>\n",
       "      <td>...</td>\n",
       "      <td>...</td>\n",
       "      <td>...</td>\n",
       "      <td>...</td>\n",
       "      <td>...</td>\n",
       "      <td>...</td>\n",
       "      <td>...</td>\n",
       "    </tr>\n",
       "    <tr>\n",
       "      <td>95</td>\n",
       "      <td>95</td>\n",
       "      <td>96</td>\n",
       "      <td>UPDATE   McDonald s US sales continue to strug...</td>\n",
       "      <td>http://www.reuters.com/article/2014/03/10/mcdo...</td>\n",
       "      <td>Reuters</td>\n",
       "      <td>b</td>\n",
       "      <td>d4lvRcSzuglGdFMmqvT6ZGcG8vDlM</td>\n",
       "      <td>www.reuters.com</td>\n",
       "      <td>1394471389416</td>\n",
       "    </tr>\n",
       "    <tr>\n",
       "      <td>96</td>\n",
       "      <td>96</td>\n",
       "      <td>97</td>\n",
       "      <td>McDonald s Sales Slip as Americans  Eating Hab...</td>\n",
       "      <td>http://www.dailyfinance.com/2014/03/10/mcdonal...</td>\n",
       "      <td>DailyFinance</td>\n",
       "      <td>b</td>\n",
       "      <td>d4lvRcSzuglGdFMmqvT6ZGcG8vDlM</td>\n",
       "      <td>www.dailyfinance.com</td>\n",
       "      <td>1394471389602</td>\n",
       "    </tr>\n",
       "    <tr>\n",
       "      <td>97</td>\n",
       "      <td>97</td>\n",
       "      <td>98</td>\n",
       "      <td>Five Guys  Chipotle continue to take bites out...</td>\n",
       "      <td>http://www.courierpress.com/news/2014/mar/10/f...</td>\n",
       "      <td>Evansville Courier \\&amp; Press</td>\n",
       "      <td>b</td>\n",
       "      <td>d4lvRcSzuglGdFMmqvT6ZGcG8vDlM</td>\n",
       "      <td>www.courierpress.com</td>\n",
       "      <td>1394471389786</td>\n",
       "    </tr>\n",
       "    <tr>\n",
       "      <td>98</td>\n",
       "      <td>98</td>\n",
       "      <td>99</td>\n",
       "      <td>McDonald s reports lower US sales amid bitter ...</td>\n",
       "      <td>http://www.nj.com/business/index.ssf/2014/03/b...</td>\n",
       "      <td>The Star-Ledger</td>\n",
       "      <td>b</td>\n",
       "      <td>d4lvRcSzuglGdFMmqvT6ZGcG8vDlM</td>\n",
       "      <td>www.nj.com</td>\n",
       "      <td>1394471389954</td>\n",
       "    </tr>\n",
       "    <tr>\n",
       "      <td>99</td>\n",
       "      <td>99</td>\n",
       "      <td>100</td>\n",
       "      <td>McDonald s Not Lovin  US Sales</td>\n",
       "      <td>http://www.newsledge.com/mcdonalds-lovin-u-s-s...</td>\n",
       "      <td>The News Ledge</td>\n",
       "      <td>b</td>\n",
       "      <td>d4lvRcSzuglGdFMmqvT6ZGcG8vDlM</td>\n",
       "      <td>www.newsledge.com</td>\n",
       "      <td>1394471390131</td>\n",
       "    </tr>\n",
       "  </tbody>\n",
       "</table>\n",
       "<p>100 rows × 9 columns</p>\n",
       "</div>"
      ],
      "text/plain": [
       "    Unnamed: 0   ID                                              TITLE  \\\n",
       "0            0    1  Fed official says weak data caused by weather ...   \n",
       "1            1    2  Fed s Charles Plosser sees high bar for change...   \n",
       "2            2    3  US open  Stocks fall after Fed official hints ...   \n",
       "3            3    4  Fed risks falling  behind the curve   Charles ...   \n",
       "4            4    5  Fed s Plosser  Nasty Weather Has Curbed Job Gr...   \n",
       "..         ...  ...                                                ...   \n",
       "95          95   96  UPDATE   McDonald s US sales continue to strug...   \n",
       "96          96   97  McDonald s Sales Slip as Americans  Eating Hab...   \n",
       "97          97   98  Five Guys  Chipotle continue to take bites out...   \n",
       "98          98   99  McDonald s reports lower US sales amid bitter ...   \n",
       "99          99  100                     McDonald s Not Lovin  US Sales   \n",
       "\n",
       "                                                  URL  \\\n",
       "0   http://www.latimes.com/business/money/la-fi-mo...   \n",
       "1   http://www.livemint.com/Politics/H2EvwJSK2VE6O...   \n",
       "2   http://www.ifamagazine.com/news/us-open-stocks...   \n",
       "3   http://www.ifamagazine.com/news/fed-risks-fall...   \n",
       "4   http://www.moneynews.com/Economy/federal-reser...   \n",
       "..                                                ...   \n",
       "95  http://www.reuters.com/article/2014/03/10/mcdo...   \n",
       "96  http://www.dailyfinance.com/2014/03/10/mcdonal...   \n",
       "97  http://www.courierpress.com/news/2014/mar/10/f...   \n",
       "98  http://www.nj.com/business/index.ssf/2014/03/b...   \n",
       "99  http://www.newsledge.com/mcdonalds-lovin-u-s-s...   \n",
       "\n",
       "                      PUBLISHER CATEGORY                          STORY  \\\n",
       "0             Los Angeles Times        b  ddUyU0VZz0BRneMioxUPQVP6sIxvM   \n",
       "1                      Livemint        b  ddUyU0VZz0BRneMioxUPQVP6sIxvM   \n",
       "2                  IFA Magazine        b  ddUyU0VZz0BRneMioxUPQVP6sIxvM   \n",
       "3                  IFA Magazine        b  ddUyU0VZz0BRneMioxUPQVP6sIxvM   \n",
       "4                     Moneynews        b  ddUyU0VZz0BRneMioxUPQVP6sIxvM   \n",
       "..                          ...      ...                            ...   \n",
       "95                      Reuters        b  d4lvRcSzuglGdFMmqvT6ZGcG8vDlM   \n",
       "96                 DailyFinance        b  d4lvRcSzuglGdFMmqvT6ZGcG8vDlM   \n",
       "97  Evansville Courier \\& Press        b  d4lvRcSzuglGdFMmqvT6ZGcG8vDlM   \n",
       "98              The Star-Ledger        b  d4lvRcSzuglGdFMmqvT6ZGcG8vDlM   \n",
       "99               The News Ledge        b  d4lvRcSzuglGdFMmqvT6ZGcG8vDlM   \n",
       "\n",
       "                HOSTNAME      TIMESTAMP  \n",
       "0        www.latimes.com  1394470370698  \n",
       "1       www.livemint.com  1394470371207  \n",
       "2    www.ifamagazine.com  1394470371550  \n",
       "3    www.ifamagazine.com  1394470371793  \n",
       "4      www.moneynews.com  1394470372027  \n",
       "..                   ...            ...  \n",
       "95       www.reuters.com  1394471389416  \n",
       "96  www.dailyfinance.com  1394471389602  \n",
       "97  www.courierpress.com  1394471389786  \n",
       "98            www.nj.com  1394471389954  \n",
       "99     www.newsledge.com  1394471390131  \n",
       "\n",
       "[100 rows x 9 columns]"
      ]
     },
     "execution_count": 12,
     "metadata": {},
     "output_type": "execute_result"
    }
   ],
   "source": [
    "news_2.head(100)"
   ]
  },
  {
   "cell_type": "code",
   "execution_count": null,
   "metadata": {},
   "outputs": [],
   "source": []
  },
  {
   "cell_type": "code",
   "execution_count": 7,
   "metadata": {},
   "outputs": [
    {
     "data": {
      "text/html": [
       "<span style=\"font-weight:bold\">Table 1 - General Dataset Information</span>"
      ],
      "text/plain": [
       "<IPython.core.display.HTML object>"
      ]
     },
     "metadata": {},
     "output_type": "display_data"
    },
    {
     "data": {
      "text/html": [
       "<div>\n",
       "<style scoped>\n",
       "    .dataframe tbody tr th:only-of-type {\n",
       "        vertical-align: middle;\n",
       "    }\n",
       "\n",
       "    .dataframe tbody tr th {\n",
       "        vertical-align: top;\n",
       "    }\n",
       "\n",
       "    .dataframe thead th {\n",
       "        text-align: right;\n",
       "    }\n",
       "</style>\n",
       "<table border=\"1\" class=\"dataframe\">\n",
       "  <thead>\n",
       "    <tr style=\"text-align: right;\">\n",
       "      <th></th>\n",
       "      <th>Unnamed: 0</th>\n",
       "      <th>ID</th>\n",
       "      <th>TITLE</th>\n",
       "      <th>URL</th>\n",
       "      <th>PUBLISHER</th>\n",
       "      <th>CATEGORY</th>\n",
       "      <th>STORY</th>\n",
       "      <th>HOSTNAME</th>\n",
       "      <th>TIMESTAMP</th>\n",
       "    </tr>\n",
       "  </thead>\n",
       "  <tbody>\n",
       "    <tr>\n",
       "      <th>0</th>\n",
       "      <td>0</td>\n",
       "      <td>1</td>\n",
       "      <td>Fed official says weak data caused by weather ...</td>\n",
       "      <td>http://www.latimes.com/business/money/la-fi-mo...</td>\n",
       "      <td>Los Angeles Times</td>\n",
       "      <td>b</td>\n",
       "      <td>ddUyU0VZz0BRneMioxUPQVP6sIxvM</td>\n",
       "      <td>www.latimes.com</td>\n",
       "      <td>1394470370698</td>\n",
       "    </tr>\n",
       "    <tr>\n",
       "      <th>1</th>\n",
       "      <td>1</td>\n",
       "      <td>2</td>\n",
       "      <td>Fed s Charles Plosser sees high bar for change...</td>\n",
       "      <td>http://www.livemint.com/Politics/H2EvwJSK2VE6O...</td>\n",
       "      <td>Livemint</td>\n",
       "      <td>b</td>\n",
       "      <td>ddUyU0VZz0BRneMioxUPQVP6sIxvM</td>\n",
       "      <td>www.livemint.com</td>\n",
       "      <td>1394470371207</td>\n",
       "    </tr>\n",
       "    <tr>\n",
       "      <th>2</th>\n",
       "      <td>2</td>\n",
       "      <td>3</td>\n",
       "      <td>US open  Stocks fall after Fed official hints ...</td>\n",
       "      <td>http://www.ifamagazine.com/news/us-open-stocks...</td>\n",
       "      <td>IFA Magazine</td>\n",
       "      <td>b</td>\n",
       "      <td>ddUyU0VZz0BRneMioxUPQVP6sIxvM</td>\n",
       "      <td>www.ifamagazine.com</td>\n",
       "      <td>1394470371550</td>\n",
       "    </tr>\n",
       "  </tbody>\n",
       "</table>\n",
       "</div>"
      ],
      "text/plain": [
       "   Unnamed: 0  ID                                              TITLE  \\\n",
       "0           0   1  Fed official says weak data caused by weather ...   \n",
       "1           1   2  Fed s Charles Plosser sees high bar for change...   \n",
       "2           2   3  US open  Stocks fall after Fed official hints ...   \n",
       "\n",
       "                                                 URL          PUBLISHER  \\\n",
       "0  http://www.latimes.com/business/money/la-fi-mo...  Los Angeles Times   \n",
       "1  http://www.livemint.com/Politics/H2EvwJSK2VE6O...           Livemint   \n",
       "2  http://www.ifamagazine.com/news/us-open-stocks...       IFA Magazine   \n",
       "\n",
       "  CATEGORY                          STORY             HOSTNAME      TIMESTAMP  \n",
       "0        b  ddUyU0VZz0BRneMioxUPQVP6sIxvM      www.latimes.com  1394470370698  \n",
       "1        b  ddUyU0VZz0BRneMioxUPQVP6sIxvM     www.livemint.com  1394470371207  \n",
       "2        b  ddUyU0VZz0BRneMioxUPQVP6sIxvM  www.ifamagazine.com  1394470371550  "
      ]
     },
     "metadata": {},
     "output_type": "display_data"
    },
    {
     "name": "stdout",
     "output_type": "stream",
     "text": [
      "Number of Samples: 422419\n",
      "Number of Features: 9\n"
     ]
    },
    {
     "data": {
      "text/html": [
       "<div>\n",
       "<style scoped>\n",
       "    .dataframe tbody tr th:only-of-type {\n",
       "        vertical-align: middle;\n",
       "    }\n",
       "\n",
       "    .dataframe tbody tr th {\n",
       "        vertical-align: top;\n",
       "    }\n",
       "\n",
       "    .dataframe thead th {\n",
       "        text-align: right;\n",
       "    }\n",
       "</style>\n",
       "<table border=\"1\" class=\"dataframe\">\n",
       "  <thead>\n",
       "    <tr style=\"text-align: right;\">\n",
       "      <th></th>\n",
       "      <th>Feature</th>\n",
       "      <th>Percent_Missing</th>\n",
       "    </tr>\n",
       "  </thead>\n",
       "  <tbody>\n",
       "    <tr>\n",
       "      <th>0</th>\n",
       "      <td>PUBLISHER</td>\n",
       "      <td>0.000473</td>\n",
       "    </tr>\n",
       "  </tbody>\n",
       "</table>\n",
       "</div>"
      ],
      "text/plain": [
       "     Feature  Percent_Missing\n",
       "0  PUBLISHER         0.000473"
      ]
     },
     "metadata": {},
     "output_type": "display_data"
    }
   ],
   "source": [
    "display(HTML('<span style=\"font-weight:bold\">' + 'Table 1 - General Dataset Information'\\\n",
    "             + '</span>'),news_2.head(3)) \n",
    "print(f\"Number of Samples: {news_2.shape[0]}\")\n",
    "print(f\"Number of Features: {news_2.shape[1]}\")\n",
    "# Missing Values\n",
    "aux = news_2.isnull().sum()/news_2.shape[0] * 100.00\n",
    "if sum(aux) == 0:\n",
    "    print(\"No Missing Data!\")\n",
    "else:\n",
    "    aux = aux[aux > 0]\n",
    "    aux = pd.DataFrame({'Feature': aux.index,\n",
    "                    'Percent_Missing': aux.values})\n",
    "    aux.sort_values('Percent_Missing', inplace=True)\n",
    "    display(aux)"
   ]
  },
  {
   "cell_type": "code",
   "execution_count": 8,
   "metadata": {},
   "outputs": [],
   "source": [
    "# n = len(news_2['CATEGORY'])\n",
    "# news_2['NEW_CATEGORY'] = ''\n",
    "# index = 0\n",
    "# for i in range(n):\n",
    "#     #print(news_2['CATEGORY'][index])\n",
    "#     if news_2['CATEGORY'][index] == 'b':\n",
    "#         news_2['NEW_CATEGORY'][index] = 'business'\n",
    "#     elif news_2['CATEGORY'][index] == 't':\n",
    "#         news_2['NEW_CATEGORY'][index] = 'science and technology'\n",
    "#     elif news_2['CATEGORY'][index] == 'e':\n",
    "#         news_2['NEW_CATEGORY'][index] = 'entertainment' \n",
    "#     else:\n",
    "#         news_2['NEW_CATEGORY'][index] = 'medicine'\n",
    "#     index += 1"
   ]
  },
  {
   "cell_type": "code",
   "execution_count": 9,
   "metadata": {},
   "outputs": [
    {
     "data": {
      "image/png": "[encoded data removed]",
      "text/plain": [
       "<Figure size 432x288 with 1 Axes>"
      ]
     },
     "metadata": {
      "needs_background": "light"
     },
     "output_type": "display_data"
    }
   ],
   "source": [
    "import seaborn as sns\n",
    "# sns.set(style=\"darkgrid\")\n",
    "# ax = sns.countplot(x=news_2['CATEGORY'], data=news_2)\n",
    "cat_map = {\n",
    "    'b': 'Business',\n",
    "    't': 'Science',\n",
    "    'e': 'Entertainment',\n",
    "    'm': 'Health'\n",
    "}\n",
    "ax = sns.countplot(news_2['CATEGORY'])\n",
    "ax.set_title(\"Category Counts\")\n",
    "ax.set_xlabel(\"Category\")\n",
    "# Manipulate the labels to make them more readable\n",
    "ax.set_xticklabels([cat_map[x.get_text()] for x in ax.get_xticklabels()], rotation=45)\n",
    "plt.show()"
   ]
  },
  {
   "cell_type": "code",
   "execution_count": 79,
   "metadata": {},
   "outputs": [],
   "source": [
    "pd.set_option('display.max_colwidth', -1)\n",
    "#news.head()"
   ]
  },
  {
   "cell_type": "code",
   "execution_count": 11,
   "metadata": {},
   "outputs": [
    {
     "data": {
      "text/html": [
       "<div>\n",
       "<style scoped>\n",
       "    .dataframe tbody tr th:only-of-type {\n",
       "        vertical-align: middle;\n",
       "    }\n",
       "\n",
       "    .dataframe tbody tr th {\n",
       "        vertical-align: top;\n",
       "    }\n",
       "\n",
       "    .dataframe thead th {\n",
       "        text-align: right;\n",
       "    }\n",
       "</style>\n",
       "<table border=\"1\" class=\"dataframe\">\n",
       "  <thead>\n",
       "    <tr style=\"text-align: right;\">\n",
       "      <th></th>\n",
       "      <th>category</th>\n",
       "      <th>headline</th>\n",
       "      <th>authors</th>\n",
       "      <th>link</th>\n",
       "      <th>short_description</th>\n",
       "      <th>date</th>\n",
       "      <th>information</th>\n",
       "    </tr>\n",
       "  </thead>\n",
       "  <tbody>\n",
       "    <tr>\n",
       "      <th>count</th>\n",
       "      <td>200853</td>\n",
       "      <td>200853</td>\n",
       "      <td>200853</td>\n",
       "      <td>200853</td>\n",
       "      <td>200853</td>\n",
       "      <td>200853</td>\n",
       "      <td>200853</td>\n",
       "    </tr>\n",
       "    <tr>\n",
       "      <th>unique</th>\n",
       "      <td>41</td>\n",
       "      <td>199344</td>\n",
       "      <td>27993</td>\n",
       "      <td>200812</td>\n",
       "      <td>178353</td>\n",
       "      <td>2309</td>\n",
       "      <td>200365</td>\n",
       "    </tr>\n",
       "    <tr>\n",
       "      <th>top</th>\n",
       "      <td>POLITICS</td>\n",
       "      <td>Sunday Roundup</td>\n",
       "      <td></td>\n",
       "      <td>https://www.huffingtonpost.comhttp://nymag.com/daily/intelligencer/2015/10/willie-nelson-crusade-stop-big-pot.html</td>\n",
       "      <td></td>\n",
       "      <td>2013-01-17 00:00:00</td>\n",
       "      <td>Watch The Top 9 YouTube Videos Of The Week If you're looking to see the most popular YouTube videos of the week, look no further. Once again, we're bringing you the</td>\n",
       "    </tr>\n",
       "    <tr>\n",
       "      <th>freq</th>\n",
       "      <td>32739</td>\n",
       "      <td>90</td>\n",
       "      <td>36620</td>\n",
       "      <td>2</td>\n",
       "      <td>19712</td>\n",
       "      <td>100</td>\n",
       "      <td>46</td>\n",
       "    </tr>\n",
       "    <tr>\n",
       "      <th>first</th>\n",
       "      <td>NaN</td>\n",
       "      <td>NaN</td>\n",
       "      <td>NaN</td>\n",
       "      <td>NaN</td>\n",
       "      <td>NaN</td>\n",
       "      <td>2012-01-28 00:00:00</td>\n",
       "      <td>NaN</td>\n",
       "    </tr>\n",
       "    <tr>\n",
       "      <th>last</th>\n",
       "      <td>NaN</td>\n",
       "      <td>NaN</td>\n",
       "      <td>NaN</td>\n",
       "      <td>NaN</td>\n",
       "      <td>NaN</td>\n",
       "      <td>2018-05-26 00:00:00</td>\n",
       "      <td>NaN</td>\n",
       "    </tr>\n",
       "  </tbody>\n",
       "</table>\n",
       "</div>"
      ],
      "text/plain": [
       "        category        headline authors  \\\n",
       "count   200853    200853          200853   \n",
       "unique  41        199344          27993    \n",
       "top     POLITICS  Sunday Roundup           \n",
       "freq    32739     90              36620    \n",
       "first   NaN       NaN             NaN      \n",
       "last    NaN       NaN             NaN      \n",
       "\n",
       "                                                                                                                      link  \\\n",
       "count   200853                                                                                                               \n",
       "unique  200812                                                                                                               \n",
       "top     https://www.huffingtonpost.comhttp://nymag.com/daily/intelligencer/2015/10/willie-nelson-crusade-stop-big-pot.html   \n",
       "freq    2                                                                                                                    \n",
       "first   NaN                                                                                                                  \n",
       "last    NaN                                                                                                                  \n",
       "\n",
       "       short_description                 date  \\\n",
       "count   200853            200853                \n",
       "unique  178353            2309                  \n",
       "top                       2013-01-17 00:00:00   \n",
       "freq    19712             100                   \n",
       "first   NaN               2012-01-28 00:00:00   \n",
       "last    NaN               2018-05-26 00:00:00   \n",
       "\n",
       "                                                                                                                                                                 information  \n",
       "count   200853                                                                                                                                                                \n",
       "unique  200365                                                                                                                                                                \n",
       "top     Watch The Top 9 YouTube Videos Of The Week If you're looking to see the most popular YouTube videos of the week, look no further. Once again, we're bringing you the  \n",
       "freq    46                                                                                                                                                                    \n",
       "first   NaN                                                                                                                                                                   \n",
       "last    NaN                                                                                                                                                                   "
      ]
     },
     "execution_count": 11,
     "metadata": {},
     "output_type": "execute_result"
    }
   ],
   "source": [
    "news.describe()"
   ]
  },
  {
   "cell_type": "code",
   "execution_count": 12,
   "metadata": {},
   "outputs": [
    {
     "name": "stdout",
     "output_type": "stream",
     "text": [
      "Total number of articles before removing duplicates: 200853\n",
      "Total number of articles after removing duplicates: 198627\n"
     ]
    }
   ],
   "source": [
    "# data processing\n",
    "# Checking and removing all the duplicates\n",
    "# 数据前期预言，就是看下有什么类型的数据，这里有重复数据，我们删掉重复数据\n",
    "print(\"Total number of articles before removing duplicates:\", news.shape[0])\n",
    "news.sort_values('headline',inplace=True, ascending=False)\n",
    "duplicated_articles_series = news.duplicated('headline', keep = False)\n",
    "news = news[~duplicated_articles_series]\n",
    "print(\"Total number of articles after removing duplicates:\", news.shape[0])"
   ]
  },
  {
   "cell_type": "code",
   "execution_count": 13,
   "metadata": {},
   "outputs": [
    {
     "data": {
      "text/plain": [
       "category             0\n",
       "headline             0\n",
       "authors              0\n",
       "link                 0\n",
       "short_description    0\n",
       "date                 0\n",
       "information          0\n",
       "dtype: int64"
      ]
     },
     "execution_count": 13,
     "metadata": {},
     "output_type": "execute_result"
    }
   ],
   "source": [
    "#数据清洗需要提及，有哪些空值，然后我们说补回这些空值用‘’，，，， 或者说去掉这些空值\n",
    "news.isna().sum()"
   ]
  },
  {
   "cell_type": "code",
   "execution_count": 14,
   "metadata": {},
   "outputs": [
    {
     "name": "stdout",
     "output_type": "stream",
     "text": [
      "Total number of articles :  198627\n",
      "Total number of authors :  27893\n",
      "Total number of unqiue categories :  41\n"
     ]
    }
   ],
   "source": [
    "print(\"Total number of articles : \", news.shape[0])\n",
    "print(\"Total number of authors : \", news[\"authors\"].nunique())\n",
    "print(\"Total number of unqiue categories : \", news[\"category\"].nunique())\n",
    "#基本的eda，数据清洗的时候提及，还有后面分类要分几类"
   ]
  },
  {
   "cell_type": "code",
   "execution_count": 65,
   "metadata": {},
   "outputs": [
    {
     "name": "stdout",
     "output_type": "stream",
     "text": [
      "Index(['POLITICS', 'WELLNESS', 'ENTERTAINMENT', 'TRAVEL', 'STYLE & BEAUTY',\n",
      "       'PARENTING', 'HEALTHY LIVING', 'QUEER VOICES', 'FOOD & DRINK',\n",
      "       'BUSINESS', 'COMEDY', 'SPORTS', 'BLACK VOICES', 'HOME & LIVING',\n",
      "       'PARENTS', 'THE WORLDPOST', 'WEDDINGS', 'WOMEN', 'IMPACT', 'DIVORCE',\n",
      "       'CRIME', 'MEDIA', 'WEIRD NEWS', 'GREEN', 'WORLDPOST', 'RELIGION',\n",
      "       'STYLE', 'SCIENCE', 'WORLD NEWS', 'TASTE', 'TECH', 'MONEY', 'ARTS',\n",
      "       'FIFTY', 'GOOD NEWS', 'ARTS & CULTURE', 'ENVIRONMENT', 'COLLEGE',\n",
      "       'LATINO VOICES', 'CULTURE & ARTS', 'EDUCATION'],\n",
      "      dtype='object')\n"
     ]
    }
   ],
   "source": [
    "sns.set(style=\"whitegrid\")\n",
    "X = news[\"category\"].value_counts().index\n",
    "Y = news[\"category\"].value_counts().values\n",
    "# g = sns.catplot(x=X, y=Y, data=news, height=6, kind=\"bar\", palette=\"muted\")\n",
    "# g.despine(left=True)\n",
    "# g.set_ylabels(\"News probability\")\n",
    "print(X)"
   ]
  },
  {
   "cell_type": "code",
   "execution_count": null,
   "metadata": {},
   "outputs": [],
   "source": [
    "fig = go.Figure([go.Bar(x=news[\"category\"].value_counts().index, y=news[\"category\"].value_counts().values)])\n",
    "fig['layout'].update(title={\"text\" : 'Distribution of articles category','y':0.9,'x':0.5,'xanchor': 'center','yanchor': 'top'}, xaxis_title=\"Category name\",yaxis_title=\"Number of articles\")\n",
    "fig.update_layout(width=800,height=700)\n",
    "fig"
   ]
  },
  {
   "cell_type": "code",
   "execution_count": 4,
   "metadata": {},
   "outputs": [],
   "source": [
    "# 这是明显的数据不均衡，所以我们要平衡一些类别，政治类那个太多了，可能也要over-sampling\n",
    "#还有说到，分类的时候，监督学习，分什么标签影响很大之类，我这里分的也不够全面，属于人工主观分类\n",
    "news['category_merged']=news['category'].replace({\"HEALTHY LIVING\": \"WELLNESS\",\n",
    "\"QUEER VOICES\": \"GROUPS VOICES\",\n",
    "\"BUSINESS\": \"BUSINESS & FINANCES\",\n",
    "\"PARENTS\": \"PARENTING\",\n",
    "\"BLACK VOICES\": \"GROUPS VOICES\",\n",
    "\"THE WORLDPOST\": \"WORLD NEWS\",\n",
    "\"STYLE\": \"STYLE & BEAUTY\",\n",
    "\"GREEN\": \"ENVIRONMENT\",\n",
    "\"TASTE\": \"FOOD & DRINK\",\n",
    "\"WORLDPOST\": \"WORLD NEWS\",\n",
    "\"SCIENCE\": \"SCIENCE & TECH\",\n",
    "\"TECH\": \"SCIENCE & TECH\",\n",
    "\"MONEY\": \"BUSINESS & FINANCES\",\n",
    "\"ARTS\": \"ARTS & CULTURE\",\n",
    "\"COLLEGE\": \"EDUCATION\",\n",
    "\"LATINO VOICES\": \"GROUPS VOICES\",\n",
    "\"CULTURE & ARTS\": \"ARTS & CULTURE\",\n",
    "\"FIFTY\": \"MISCELLANEOUS\",\n",
    "\"WEDDINGS\":'FAMILY',\n",
    "#\"WOMEN\":'FAMILY',\n",
    "\"DIVORCE\":\"FAMILY\",\n",
    "\"GOOD NEWS\": \"MISCELLANEOUS\"})"
   ]
  },
  {
   "cell_type": "code",
   "execution_count": 67,
   "metadata": {},
   "outputs": [
    {
     "data": {
      "text/html": [
       "<div>\n",
       "<style scoped>\n",
       "    .dataframe tbody tr th:only-of-type {\n",
       "        vertical-align: middle;\n",
       "    }\n",
       "\n",
       "    .dataframe tbody tr th {\n",
       "        vertical-align: top;\n",
       "    }\n",
       "\n",
       "    .dataframe thead th {\n",
       "        text-align: right;\n",
       "    }\n",
       "</style>\n",
       "<table border=\"1\" class=\"dataframe\">\n",
       "  <thead>\n",
       "    <tr style=\"text-align: right;\">\n",
       "      <th></th>\n",
       "      <th>Unnamed: 0</th>\n",
       "      <th>category</th>\n",
       "      <th>headline</th>\n",
       "      <th>authors</th>\n",
       "      <th>link</th>\n",
       "      <th>short_description</th>\n",
       "      <th>date</th>\n",
       "      <th>information</th>\n",
       "      <th>category_merged</th>\n",
       "    </tr>\n",
       "  </thead>\n",
       "  <tbody>\n",
       "    <tr>\n",
       "      <td>0</td>\n",
       "      <td>0</td>\n",
       "      <td>CRIME</td>\n",
       "      <td>There Were 2 Mass Shootings In Texas Last Week, But Only 1 On TV</td>\n",
       "      <td>Melissa Jeltsen</td>\n",
       "      <td>https://www.huffingtonpost.com/entry/texas-amanda-painter-mass-shooting_us_5b081ab4e4b0802d69caad89</td>\n",
       "      <td>She left her husband. He killed their children. Just another day in America.</td>\n",
       "      <td>2018-05-26</td>\n",
       "      <td>There Were 2 Mass Shootings In Texas Last Week, But Only 1 On TV She left her husband. He killed their children. Just another day in America.</td>\n",
       "      <td>CRIME</td>\n",
       "    </tr>\n",
       "    <tr>\n",
       "      <td>1</td>\n",
       "      <td>1</td>\n",
       "      <td>ENTERTAINMENT</td>\n",
       "      <td>Will Smith Joins Diplo And Nicky Jam For The 2018 World Cup's Official Song</td>\n",
       "      <td>Andy McDonald</td>\n",
       "      <td>https://www.huffingtonpost.com/entry/will-smith-joins-diplo-and-nicky-jam-for-the-official-2018-world-cup-song_us_5b09726fe4b0fdb2aa541201</td>\n",
       "      <td>Of course it has a song.</td>\n",
       "      <td>2018-05-26</td>\n",
       "      <td>Will Smith Joins Diplo And Nicky Jam For The 2018 World Cup's Official Song Of course it has a song.</td>\n",
       "      <td>ENTERTAINMENT</td>\n",
       "    </tr>\n",
       "    <tr>\n",
       "      <td>2</td>\n",
       "      <td>2</td>\n",
       "      <td>ENTERTAINMENT</td>\n",
       "      <td>Hugh Grant Marries For The First Time At Age 57</td>\n",
       "      <td>Ron Dicker</td>\n",
       "      <td>https://www.huffingtonpost.com/entry/hugh-grant-marries_us_5b09212ce4b0568a880b9a8c</td>\n",
       "      <td>The actor and his longtime girlfriend Anna Eberstein tied the knot in a civil ceremony.</td>\n",
       "      <td>2018-05-26</td>\n",
       "      <td>Hugh Grant Marries For The First Time At Age 57 The actor and his longtime girlfriend Anna Eberstein tied the knot in a civil ceremony.</td>\n",
       "      <td>ENTERTAINMENT</td>\n",
       "    </tr>\n",
       "    <tr>\n",
       "      <td>3</td>\n",
       "      <td>3</td>\n",
       "      <td>ENTERTAINMENT</td>\n",
       "      <td>Jim Carrey Blasts 'Castrato' Adam Schiff And Democrats In New Artwork</td>\n",
       "      <td>Ron Dicker</td>\n",
       "      <td>https://www.huffingtonpost.com/entry/jim-carrey-adam-schiff-democrats_us_5b0950e8e4b0fdb2aa53e675</td>\n",
       "      <td>The actor gives Dems an ass-kicking for not fighting hard enough against Donald Trump.</td>\n",
       "      <td>2018-05-26</td>\n",
       "      <td>Jim Carrey Blasts 'Castrato' Adam Schiff And Democrats In New Artwork The actor gives Dems an ass-kicking for not fighting hard enough against Donald Trump.</td>\n",
       "      <td>ENTERTAINMENT</td>\n",
       "    </tr>\n",
       "    <tr>\n",
       "      <td>4</td>\n",
       "      <td>4</td>\n",
       "      <td>ENTERTAINMENT</td>\n",
       "      <td>Julianna Margulies Uses Donald Trump Poop Bags To Pick Up After Her Dog</td>\n",
       "      <td>Ron Dicker</td>\n",
       "      <td>https://www.huffingtonpost.com/entry/julianna-margulies-trump-poop-bag_us_5b093ec2e4b0fdb2aa53df70</td>\n",
       "      <td>The \"Dietland\" actress said using the bags is a \"really cathartic, therapeutic moment.\"</td>\n",
       "      <td>2018-05-26</td>\n",
       "      <td>Julianna Margulies Uses Donald Trump Poop Bags To Pick Up After Her Dog The \"Dietland\" actress said using the bags is a \"really cathartic, therapeutic moment.\"</td>\n",
       "      <td>ENTERTAINMENT</td>\n",
       "    </tr>\n",
       "  </tbody>\n",
       "</table>\n",
       "</div>"
      ],
      "text/plain": [
       "   Unnamed: 0       category  \\\n",
       "0  0           CRIME           \n",
       "1  1           ENTERTAINMENT   \n",
       "2  2           ENTERTAINMENT   \n",
       "3  3           ENTERTAINMENT   \n",
       "4  4           ENTERTAINMENT   \n",
       "\n",
       "                                                                      headline  \\\n",
       "0  There Were 2 Mass Shootings In Texas Last Week, But Only 1 On TV              \n",
       "1  Will Smith Joins Diplo And Nicky Jam For The 2018 World Cup's Official Song   \n",
       "2  Hugh Grant Marries For The First Time At Age 57                               \n",
       "3  Jim Carrey Blasts 'Castrato' Adam Schiff And Democrats In New Artwork         \n",
       "4  Julianna Margulies Uses Donald Trump Poop Bags To Pick Up After Her Dog       \n",
       "\n",
       "           authors  \\\n",
       "0  Melissa Jeltsen   \n",
       "1  Andy McDonald     \n",
       "2  Ron Dicker        \n",
       "3  Ron Dicker        \n",
       "4  Ron Dicker        \n",
       "\n",
       "                                                                                                                                         link  \\\n",
       "0  https://www.huffingtonpost.com/entry/texas-amanda-painter-mass-shooting_us_5b081ab4e4b0802d69caad89                                          \n",
       "1  https://www.huffingtonpost.com/entry/will-smith-joins-diplo-and-nicky-jam-for-the-official-2018-world-cup-song_us_5b09726fe4b0fdb2aa541201   \n",
       "2  https://www.huffingtonpost.com/entry/hugh-grant-marries_us_5b09212ce4b0568a880b9a8c                                                          \n",
       "3  https://www.huffingtonpost.com/entry/jim-carrey-adam-schiff-democrats_us_5b0950e8e4b0fdb2aa53e675                                            \n",
       "4  https://www.huffingtonpost.com/entry/julianna-margulies-trump-poop-bag_us_5b093ec2e4b0fdb2aa53df70                                           \n",
       "\n",
       "                                                                         short_description  \\\n",
       "0  She left her husband. He killed their children. Just another day in America.              \n",
       "1  Of course it has a song.                                                                  \n",
       "2  The actor and his longtime girlfriend Anna Eberstein tied the knot in a civil ceremony.   \n",
       "3  The actor gives Dems an ass-kicking for not fighting hard enough against Donald Trump.    \n",
       "4  The \"Dietland\" actress said using the bags is a \"really cathartic, therapeutic moment.\"   \n",
       "\n",
       "         date  \\\n",
       "0  2018-05-26   \n",
       "1  2018-05-26   \n",
       "2  2018-05-26   \n",
       "3  2018-05-26   \n",
       "4  2018-05-26   \n",
       "\n",
       "                                                                                                                                                       information  \\\n",
       "0  There Were 2 Mass Shootings In Texas Last Week, But Only 1 On TV She left her husband. He killed their children. Just another day in America.                     \n",
       "1  Will Smith Joins Diplo And Nicky Jam For The 2018 World Cup's Official Song Of course it has a song.                                                              \n",
       "2  Hugh Grant Marries For The First Time At Age 57 The actor and his longtime girlfriend Anna Eberstein tied the knot in a civil ceremony.                           \n",
       "3  Jim Carrey Blasts 'Castrato' Adam Schiff And Democrats In New Artwork The actor gives Dems an ass-kicking for not fighting hard enough against Donald Trump.      \n",
       "4  Julianna Margulies Uses Donald Trump Poop Bags To Pick Up After Her Dog The \"Dietland\" actress said using the bags is a \"really cathartic, therapeutic moment.\"   \n",
       "\n",
       "  category_merged  \n",
       "0  CRIME           \n",
       "1  ENTERTAINMENT   \n",
       "2  ENTERTAINMENT   \n",
       "3  ENTERTAINMENT   \n",
       "4  ENTERTAINMENT   "
      ]
     },
     "execution_count": 67,
     "metadata": {},
     "output_type": "execute_result"
    }
   ],
   "source": [
    "news.head()"
   ]
  },
  {
   "cell_type": "code",
   "execution_count": null,
   "metadata": {},
   "outputs": [],
   "source": [
    "#合并后\n",
    "fig = go.Figure([go.Bar(x=news[\"category_merged\"].value_counts().index, y=news[\"category_merged\"].value_counts().values)])\n",
    "fig['layout'].update(title={\"text\" : 'Distribution of articles category','y':0.9,'x':0.5,'xanchor': 'center','yanchor': 'top'}, xaxis_title=\"Category name\",yaxis_title=\"Number of articles\")\n",
    "fig.update_layout(width=800,height=700)\n",
    "fig"
   ]
  },
  {
   "cell_type": "code",
   "execution_count": null,
   "metadata": {},
   "outputs": [],
   "source": [
    "#要说政治的数据集过多，validation的时候要验证是否会过拟合\n",
    "#这里的数据集是文章的标题跟内容概述，属于短文本分类\n",
    "#看情况，是否需要做个短文本分类vs长文本分类\n",
    "#这里不做中文分类了，时间不够\n",
    "# news['category_merged']=news['category'].replace(\n",
    "# {\"ENTERTAINMENT\": \"COMEDY\", # 具体分类还可以再细化一下，先完成流程再优化这里\n",
    " \n",
    "# })"
   ]
  },
  {
   "cell_type": "code",
   "execution_count": 5,
   "metadata": {},
   "outputs": [],
   "source": [
    "news.drop(news[(news['authors'] == '') & (news['short_description'] == '' )].index, inplace=True)\n",
    "#news_2.drop(news_2[[news_2.TITLE] == ''].index, inplace=True)没有空的"
   ]
  },
  {
   "cell_type": "code",
   "execution_count": null,
   "metadata": {},
   "outputs": [],
   "source": [
    "fig, ax = plt.subplots(1, 1, figsize=(15,15))\n",
    "news['category_merged'].value_counts().plot.pie( autopct = '%1.1f%%')\n",
    "#政治与娱乐的占比过大，training容易过拟合，数据少的可能欠拟合\n",
    "\n",
    "# k-flod的时候\n",
    "#分类的时候后，training set， validation set， test set这样来弄"
   ]
  },
  {
   "cell_type": "code",
   "execution_count": 52,
   "metadata": {},
   "outputs": [
    {
     "name": "stdout",
     "output_type": "stream",
     "text": [
      "Total Number of authors :  27879\n",
      "avg articles written by per author: 7\n",
      "Total news counts : 195601\n"
     ]
    }
   ],
   "source": [
    "#尽管没啥用，但是这些都可以统计出来\n",
    "total_authors = news.authors.nunique()\n",
    "news_counts = news.shape[0]\n",
    "print('Total Number of authors : ', total_authors)\n",
    "\n",
    "print('avg articles written by per author: ' + str(news_counts//total_authors))\n",
    "print('Total news counts : ' + str(news_counts))\n",
    "#写到特征工程里面去"
   ]
  },
  {
   "cell_type": "code",
   "execution_count": 53,
   "metadata": {},
   "outputs": [
    {
     "name": "stdout",
     "output_type": "stream",
     "text": [
      "79690 of news is contributed by 257 authors i.e  40.74 % of news is contributed by 0.92 % of authors\n"
     ]
    }
   ],
   "source": [
    "authors_news_counts = news.authors.value_counts()\n",
    "sum_contribution = 0\n",
    "author_count = 0\n",
    "for author_contribution in authors_news_counts:\n",
    "    author_count += 1\n",
    "    if author_contribution < 80:\n",
    "        break\n",
    "    sum_contribution += author_contribution\n",
    "print('{} of news is contributed by {} authors i.e  {} % of news is contributed by {} % of authors'.\n",
    "      format(sum_contribution, author_count, format((sum_contribution*100/news_counts), '.2f'), format((author_count*100/total_authors), '.2f')))\n",
    "# If all authors are writing only of few categories of news then we can consider the author feature as well for modeling."
   ]
  },
  {
   "cell_type": "code",
   "execution_count": null,
   "metadata": {},
   "outputs": [],
   "source": [
    "#统计前十的作者\n",
    "news.authors.value_counts()[0:10]"
   ]
  },
  {
   "cell_type": "code",
   "execution_count": null,
   "metadata": {},
   "outputs": [],
   "source": [
    "#举例子，这个作者分别写了哪些哪些文章啊\n",
    "author_name = 'Lee Moran'\n",
    "particular_author_news = news[news['authors'] == author_name]\n",
    "df = particular_author_news.groupby(by='category_merged')['information'].count()\n",
    "df"
   ]
  },
  {
   "cell_type": "code",
   "execution_count": null,
   "metadata": {},
   "outputs": [],
   "source": [
    "#这个作家的文章饼图，可以说明他是什么板块的编辑，主攻写什么类型的文章\n",
    "fig, ax = plt.subplots(1, 1, figsize=(20,20))\n",
    "df.plot.pie( autopct = '%1.1f%%')"
   ]
  },
  {
   "cell_type": "code",
   "execution_count": null,
   "metadata": {},
   "outputs": [],
   "source": [
    "'''\n",
    "在做训练之前，我们还可以对模型进行词统计，统计最常见出现的词，二元词，三元词，但是对训练没啥卵用，但是可以画多几个图\n",
    "'''"
   ]
  },
  {
   "cell_type": "code",
   "execution_count": null,
   "metadata": {},
   "outputs": [],
   "source": [
    "'''\n",
    "https://www.kaggle.com/xhlulu/plotly-express-tests/notebook\n",
    "画酷炫的图\n",
    "\n",
    "下面就是算法对比了\n",
    "'''"
   ]
  },
  {
   "cell_type": "code",
   "execution_count": null,
   "metadata": {},
   "outputs": [],
   "source": [
    "print(X_train)"
   ]
  },
  {
   "cell_type": "code",
   "execution_count": 6,
   "metadata": {},
   "outputs": [],
   "source": [
    "#下面分训练集跟测试机\n",
    "X_train, X_test, Y_train, Y_test = sklearn.model_selection.train_test_split(news[['information', 'authors']], news['category_merged'], test_size=0.33)"
   ]
  },
  {
   "cell_type": "code",
   "execution_count": 103,
   "metadata": {},
   "outputs": [],
   "source": [
    "mapper = {}\n",
    "\n",
    "for i,cat in enumerate(news_2[\"CATEGORY\"].unique()):\n",
    "        mapper[cat] = i\n",
    "\n",
    "news_2[\"category_target\"] = news_2[\"CATEGORY\"].map(mapper)\n",
    "#news_2.head()"
   ]
  },
  {
   "cell_type": "code",
   "execution_count": 96,
   "metadata": {},
   "outputs": [],
   "source": [
    "_, _, temp_y_train, temp_y_val = sklearn.model_selection.train_test_split(news_2[['TITLE', 'PUBLISHER']], news_2['category_target'], test_size=0.2)"
   ]
  },
  {
   "cell_type": "code",
   "execution_count": 97,
   "metadata": {},
   "outputs": [
    {
     "data": {
      "text/plain": [
       "76532     0\n",
       "157474    2\n",
       "195569    0\n",
       "261179    2\n",
       "374906    2\n",
       "         ..\n",
       "212121    0\n",
       "385799    2\n",
       "194484    2\n",
       "320355    2\n",
       "21105     0\n",
       "Name: category_target, Length: 326476, dtype: int64"
      ]
     },
     "execution_count": 97,
     "metadata": {},
     "output_type": "execute_result"
    }
   ],
   "source": [
    "temp_y_train"
   ]
  },
  {
   "cell_type": "code",
   "execution_count": null,
   "metadata": {},
   "outputs": [],
   "source": []
  },
  {
   "cell_type": "code",
   "execution_count": 7,
   "metadata": {},
   "outputs": [],
   "source": [
    "# Convert pandas series into numpy array\n",
    "X_train = np.array(X_train);\n",
    "X_test = np.array(X_test);\n",
    "Y_train = np.array(Y_train);\n",
    "Y_test = np.array(Y_test);\n",
    "cleanHeadlines_train = [] \n",
    "\n",
    "cleanHeadlines_test = [] \n",
    "number_reviews_train = len(X_train) \n",
    "number_reviews_test = len(X_test) "
   ]
  },
  {
   "cell_type": "code",
   "execution_count": 8,
   "metadata": {},
   "outputs": [
    {
     "name": "stderr",
     "output_type": "stream",
     "text": [
      "[nltk_data] Downloading package punkt to\n",
      "[nltk_data]     C:\\Users\\jz3f19\\AppData\\Roaming\\nltk_data...\n",
      "[nltk_data]   Package punkt is already up-to-date!\n",
      "[nltk_data] Downloading package stopwords to\n",
      "[nltk_data]     C:\\Users\\jz3f19\\AppData\\Roaming\\nltk_data...\n",
      "[nltk_data]   Package stopwords is already up-to-date!\n",
      "[nltk_data] Downloading package wordnet to\n",
      "[nltk_data]     C:\\Users\\jz3f19\\AppData\\Roaming\\nltk_data...\n",
      "[nltk_data]   Package wordnet is already up-to-date!\n"
     ]
    }
   ],
   "source": [
    "from nltk.stem import PorterStemmer, WordNetLemmatizer\n",
    "nltk.download('punkt')\n",
    "nltk.download('stopwords')\n",
    "nltk.download('wordnet')\n",
    "lemmetizer = WordNetLemmatizer()\n",
    "stemmer = PorterStemmer()\n",
    "\n",
    "def isnumber(string):\n",
    "    try:\n",
    "        float(string)\n",
    "        return True\n",
    "    except:\n",
    "        return False\n",
    "\n",
    "def get_words(headlines_list):\n",
    "    headlines = headlines_list[0]\n",
    "    #print(headlines_list[1])\n",
    "    #    \"@\\S+|https?:\\S+|http?:\\S|[^A-Za-z0-9]+\n",
    "    #author_names = [x for x in headlines_list[1].lower().replace('and',',').replace('...','').replace(' ', '').split(',') if x != '' or x is None]\n",
    "    \n",
    "    author_names = []\n",
    "    \n",
    "    if headlines_list[1] is not None and headlines_list[1] != '':\n",
    "        if not isnumber(headlines_list[1]):\n",
    "            temp_names = headlines_list[1].lower().replace('and', ',').replace('...','').replace(' ', '').replace(\"\\\\\",' ').replace('-',' ').replace('.', '').split(',')\n",
    "            for name in temp_names:\n",
    "                if name != '' and name is not None:\n",
    "                    author_names.append(name)\n",
    "    \n",
    "    headlines_only_letters = re.sub('[^a-zA-Z]', ' ', headlines)\n",
    "    \n",
    "    #headlines_only_letters = word_clean(headlines[:100])\n",
    "    #print(headlines_only_letters[:100].lower())\n",
    "    words = nltk.word_tokenize(headlines_only_letters.lower())\n",
    "    words = [word for word in words if len(word) > 2]\n",
    "    stops = set(stopwords.words('english'))\n",
    "    meaningful_words = [lemmetizer.lemmatize(w) for w in words if w not in stops]\n",
    "    return ' '.join(meaningful_words + author_names) # it is really strange to add authors name i think\n",
    "\n",
    "def word_clean(texts):\n",
    "    n = len(texts)\n",
    "    #re.sub('[^a-zA-Z]', ' ', headlines)\n",
    "    for i in range(n):\n",
    "        text = texts[i]\n",
    "        text = str(text).lower()\n",
    "        text = re.sub('\\[.*?\\]', '', text)\n",
    "        text = re.sub('https?://\\S+|www\\.\\S+', '', text)\n",
    "        text = re.sub('<.*?>+', '', text)\n",
    "        text = re.sub('\\n', '', text)\n",
    "        text = re.sub('\\w*\\d\\w*', '', text)\n",
    "        text = re.sub('@', '', text)\n",
    "        texts[i] = text\n",
    "    return texts"
   ]
  },
  {
   "cell_type": "code",
   "execution_count": 9,
   "metadata": {},
   "outputs": [],
   "source": [
    "#\n",
    "for i in range(0,number_reviews_train):\n",
    "    \n",
    "    cleanHeadline = get_words(X_train[i]) #这步清理出来的数据可能还会有字符啥的，还有些没意义的词\n",
    "    cleanHeadlines_train.append(cleanHeadline)\n",
    "    \n",
    "# add author to headline, not sure whether its useful"
   ]
  },
  {
   "cell_type": "code",
   "execution_count": 10,
   "metadata": {},
   "outputs": [],
   "source": [
    "for i in range(0,number_reviews_test):\n",
    "    cleanHeadline = get_words(X_test[i]) #Processing the data and getting words with no special characters, numbers or html tags\n",
    "    cleanHeadlines_test.append( cleanHeadline )"
   ]
  },
  {
   "cell_type": "code",
   "execution_count": 11,
   "metadata": {},
   "outputs": [
    {
     "name": "stdout",
     "output_type": "stream",
     "text": [
      "['myth trash dress photo part bride opting take additional plunge unknown big day trash dress surf dress photo increasingly demand way keep celebration going well beyond wedding day chelseabond contributor\\ninternationaljewelrydesigner|entrepreneur chelseabondje', 'john bel edward new attacking david vitter subtle guess aspect david vitter checkered past edward emphasizing come guess jasonlinkins', 'amsterdam bike ever city made cycling amsterdam mile safe bike lane flat canal skirting road jetsetter contributor\\njetsetteristhego tobr fortravelerswithdiscerningtas', 'levar burton say time right root remake set date yet new root air', 'lost weight jim fisher made portion control priority lost pound weight pound huffington post publishes photograph submitted reader check', 'gossip killing relationship work life coach client often complain people life always trying fix fixer may well meaning sometimes reliance fixing people problem bolster self worth identity lisahaisha contributor\\ncreatoroftransformativetherapy soulblazing hostofthe', 'miranda kerr flynn cover magazine beautiful people issue photo magazine australia version people made official putting mommy son pair cover elliekrupnick', 'wife former cowboy player claim team knew domestic abuse detail disturbing violent episode erickfern ez', 'ballet color odd feel like outsider issue touched life profoundly least part arthur mitchell set address year ago karel shook cofounded dance theatre harlem basement church harlem virginiajohnson contributorartisticdirector dancetheatreofharlem', 'ted cruz tax plan hard working american really gift wealthy new republican presidential candidate sen ted cruz promotes tax plan paint way boost']\n"
     ]
    }
   ],
   "source": [
    "# cleanHeadlines_train = [x for x in cleanHeadlines_train if x != '' and x is not None]\n",
    "# cleanHeadlines_test = [x for x in cleanHeadlines_test if x != '' and x is not None]\n",
    "print(cleanHeadlines_test[:10])"
   ]
  },
  {
   "cell_type": "code",
   "execution_count": 12,
   "metadata": {},
   "outputs": [],
   "source": [
    "vectorize = sklearn.feature_extraction.text.TfidfVectorizer(analyzer = \"word\", max_features=30000)\n",
    "tfidwords_train = vectorize.fit_transform(cleanHeadlines_train)\n",
    "X_train = tfidwords_train.toarray()"
   ]
  },
  {
   "cell_type": "code",
   "execution_count": 13,
   "metadata": {},
   "outputs": [],
   "source": [
    "tfidwords_test = vectorize.transform(cleanHeadlines_test)\n",
    "X_test = tfidwords_test.toarray()"
   ]
  },
  {
   "cell_type": "code",
   "execution_count": 14,
   "metadata": {},
   "outputs": [
    {
     "data": {
      "text/plain": [
       "array([[0., 0., 0., ..., 0., 0., 0.]])"
      ]
     },
     "execution_count": 14,
     "metadata": {},
     "output_type": "execute_result"
    }
   ],
   "source": [
    "X_train[:1]"
   ]
  },
  {
   "cell_type": "code",
   "execution_count": 15,
   "metadata": {},
   "outputs": [
    {
     "name": "stdout",
     "output_type": "stream",
     "text": [
      "77.56\n"
     ]
    }
   ],
   "source": [
    "from sklearn.svm import LinearSVC\n",
    "#不要跑这段，内存不够\n",
    "model = LinearSVC()\n",
    "model.fit(X_train,Y_train)\n",
    "Y_predict = model.predict(X_test)\n",
    "accuracy = accuracy_score(Y_test,Y_predict)*100\n",
    "print(format(accuracy, '.2f'))"
   ]
  },
  {
   "cell_type": "code",
   "execution_count": 18,
   "metadata": {},
   "outputs": [
    {
     "name": "stdout",
     "output_type": "stream",
     "text": [
      "75.90\n"
     ]
    }
   ],
   "source": [
    "#不要一次性跑完，机器不够，会崩， LR非常耗时\n",
    "#大概会跑40mins\n",
    "logistic_Regression = LogisticRegression()\n",
    "logistic_Regression.fit(X_train,Y_train)\n",
    "Y_predict = logistic_Regression.predict(X_test)\n",
    "accuracy = accuracy_score(Y_test,Y_predict)*100\n",
    "print(format(accuracy, '.2f'))"
   ]
  },
  {
   "cell_type": "code",
   "execution_count": 19,
   "metadata": {},
   "outputs": [
    {
     "ename": "MemoryError",
     "evalue": "",
     "output_type": "error",
     "traceback": [
      "\u001b[1;31m---------------------------------------------------------------------------\u001b[0m",
      "\u001b[1;31mMemoryError\u001b[0m                               Traceback (most recent call last)",
      "\u001b[1;32m<ipython-input-19-cdae6f7fe2ce>\u001b[0m in \u001b[0;36m<module>\u001b[1;34m\u001b[0m\n\u001b[0;32m      2\u001b[0m \u001b[1;31m#不要跑这段，内存不够\u001b[0m\u001b[1;33m\u001b[0m\u001b[1;33m\u001b[0m\u001b[1;33m\u001b[0m\u001b[0m\n\u001b[0;32m      3\u001b[0m \u001b[0mmodel\u001b[0m \u001b[1;33m=\u001b[0m \u001b[0mBaggingClassifier\u001b[0m\u001b[1;33m(\u001b[0m\u001b[0mrandom_state\u001b[0m\u001b[1;33m=\u001b[0m\u001b[1;36m0\u001b[0m\u001b[1;33m,\u001b[0m \u001b[0mn_estimators\u001b[0m\u001b[1;33m=\u001b[0m\u001b[1;36m10\u001b[0m\u001b[1;33m)\u001b[0m\u001b[1;33m\u001b[0m\u001b[1;33m\u001b[0m\u001b[0m\n\u001b[1;32m----> 4\u001b[1;33m \u001b[0mmodel\u001b[0m\u001b[1;33m.\u001b[0m\u001b[0mfit\u001b[0m\u001b[1;33m(\u001b[0m\u001b[0mX_train\u001b[0m\u001b[1;33m,\u001b[0m \u001b[0mY_train\u001b[0m\u001b[1;33m)\u001b[0m\u001b[1;33m\u001b[0m\u001b[1;33m\u001b[0m\u001b[0m\n\u001b[0m\u001b[0;32m      5\u001b[0m \u001b[0mprediction\u001b[0m \u001b[1;33m=\u001b[0m \u001b[0mmodel\u001b[0m\u001b[1;33m.\u001b[0m\u001b[0mpredict\u001b[0m\u001b[1;33m(\u001b[0m\u001b[0mX_test\u001b[0m\u001b[1;33m)\u001b[0m\u001b[1;33m\u001b[0m\u001b[1;33m\u001b[0m\u001b[0m\n\u001b[0;32m      6\u001b[0m \u001b[0mprint\u001b[0m\u001b[1;33m(\u001b[0m\u001b[1;34m'Accuracy of bagged KNN is :'\u001b[0m\u001b[1;33m,\u001b[0m\u001b[0maccuracy_score\u001b[0m\u001b[1;33m(\u001b[0m\u001b[0mprediction\u001b[0m\u001b[1;33m,\u001b[0m \u001b[0mY_test\u001b[0m\u001b[1;33m)\u001b[0m\u001b[1;33m)\u001b[0m\u001b[1;33m\u001b[0m\u001b[1;33m\u001b[0m\u001b[0m\n",
      "\u001b[1;32mC:\\Apps\\Anaconda3\\envs\\gpu-cuda10\\lib\\site-packages\\sklearn\\ensemble\\bagging.py\u001b[0m in \u001b[0;36mfit\u001b[1;34m(self, X, y, sample_weight)\u001b[0m\n\u001b[0;32m    239\u001b[0m         \u001b[0mself\u001b[0m \u001b[1;33m:\u001b[0m \u001b[0mobject\u001b[0m\u001b[1;33m\u001b[0m\u001b[1;33m\u001b[0m\u001b[0m\n\u001b[0;32m    240\u001b[0m         \"\"\"\n\u001b[1;32m--> 241\u001b[1;33m         \u001b[1;32mreturn\u001b[0m \u001b[0mself\u001b[0m\u001b[1;33m.\u001b[0m\u001b[0m_fit\u001b[0m\u001b[1;33m(\u001b[0m\u001b[0mX\u001b[0m\u001b[1;33m,\u001b[0m \u001b[0my\u001b[0m\u001b[1;33m,\u001b[0m \u001b[0mself\u001b[0m\u001b[1;33m.\u001b[0m\u001b[0mmax_samples\u001b[0m\u001b[1;33m,\u001b[0m \u001b[0msample_weight\u001b[0m\u001b[1;33m=\u001b[0m\u001b[0msample_weight\u001b[0m\u001b[1;33m)\u001b[0m\u001b[1;33m\u001b[0m\u001b[1;33m\u001b[0m\u001b[0m\n\u001b[0m\u001b[0;32m    242\u001b[0m \u001b[1;33m\u001b[0m\u001b[0m\n\u001b[0;32m    243\u001b[0m     \u001b[1;32mdef\u001b[0m \u001b[0m_parallel_args\u001b[0m\u001b[1;33m(\u001b[0m\u001b[0mself\u001b[0m\u001b[1;33m)\u001b[0m\u001b[1;33m:\u001b[0m\u001b[1;33m\u001b[0m\u001b[1;33m\u001b[0m\u001b[0m\n",
      "\u001b[1;32mC:\\Apps\\Anaconda3\\envs\\gpu-cuda10\\lib\\site-packages\\sklearn\\ensemble\\bagging.py\u001b[0m in \u001b[0;36m_fit\u001b[1;34m(self, X, y, max_samples, max_depth, sample_weight)\u001b[0m\n\u001b[0;32m    377\u001b[0m                 \u001b[0mtotal_n_estimators\u001b[0m\u001b[1;33m,\u001b[0m\u001b[1;33m\u001b[0m\u001b[1;33m\u001b[0m\u001b[0m\n\u001b[0;32m    378\u001b[0m                 verbose=self.verbose)\n\u001b[1;32m--> 379\u001b[1;33m             for i in range(n_jobs))\n\u001b[0m\u001b[0;32m    380\u001b[0m \u001b[1;33m\u001b[0m\u001b[0m\n\u001b[0;32m    381\u001b[0m         \u001b[1;31m# Reduce\u001b[0m\u001b[1;33m\u001b[0m\u001b[1;33m\u001b[0m\u001b[1;33m\u001b[0m\u001b[0m\n",
      "\u001b[1;32mC:\\Apps\\Anaconda3\\envs\\gpu-cuda10\\lib\\site-packages\\joblib\\parallel.py\u001b[0m in \u001b[0;36m__call__\u001b[1;34m(self, iterable)\u001b[0m\n\u001b[0;32m    919\u001b[0m             \u001b[1;31m# remaining jobs.\u001b[0m\u001b[1;33m\u001b[0m\u001b[1;33m\u001b[0m\u001b[1;33m\u001b[0m\u001b[0m\n\u001b[0;32m    920\u001b[0m             \u001b[0mself\u001b[0m\u001b[1;33m.\u001b[0m\u001b[0m_iterating\u001b[0m \u001b[1;33m=\u001b[0m \u001b[1;32mFalse\u001b[0m\u001b[1;33m\u001b[0m\u001b[1;33m\u001b[0m\u001b[0m\n\u001b[1;32m--> 921\u001b[1;33m             \u001b[1;32mif\u001b[0m \u001b[0mself\u001b[0m\u001b[1;33m.\u001b[0m\u001b[0mdispatch_one_batch\u001b[0m\u001b[1;33m(\u001b[0m\u001b[0miterator\u001b[0m\u001b[1;33m)\u001b[0m\u001b[1;33m:\u001b[0m\u001b[1;33m\u001b[0m\u001b[1;33m\u001b[0m\u001b[0m\n\u001b[0m\u001b[0;32m    922\u001b[0m                 \u001b[0mself\u001b[0m\u001b[1;33m.\u001b[0m\u001b[0m_iterating\u001b[0m \u001b[1;33m=\u001b[0m \u001b[0mself\u001b[0m\u001b[1;33m.\u001b[0m\u001b[0m_original_iterator\u001b[0m \u001b[1;32mis\u001b[0m \u001b[1;32mnot\u001b[0m \u001b[1;32mNone\u001b[0m\u001b[1;33m\u001b[0m\u001b[1;33m\u001b[0m\u001b[0m\n\u001b[0;32m    923\u001b[0m \u001b[1;33m\u001b[0m\u001b[0m\n",
      "\u001b[1;32mC:\\Apps\\Anaconda3\\envs\\gpu-cuda10\\lib\\site-packages\\joblib\\parallel.py\u001b[0m in \u001b[0;36mdispatch_one_batch\u001b[1;34m(self, iterator)\u001b[0m\n\u001b[0;32m    757\u001b[0m                 \u001b[1;32mreturn\u001b[0m \u001b[1;32mFalse\u001b[0m\u001b[1;33m\u001b[0m\u001b[1;33m\u001b[0m\u001b[0m\n\u001b[0;32m    758\u001b[0m             \u001b[1;32melse\u001b[0m\u001b[1;33m:\u001b[0m\u001b[1;33m\u001b[0m\u001b[1;33m\u001b[0m\u001b[0m\n\u001b[1;32m--> 759\u001b[1;33m                 \u001b[0mself\u001b[0m\u001b[1;33m.\u001b[0m\u001b[0m_dispatch\u001b[0m\u001b[1;33m(\u001b[0m\u001b[0mtasks\u001b[0m\u001b[1;33m)\u001b[0m\u001b[1;33m\u001b[0m\u001b[1;33m\u001b[0m\u001b[0m\n\u001b[0m\u001b[0;32m    760\u001b[0m                 \u001b[1;32mreturn\u001b[0m \u001b[1;32mTrue\u001b[0m\u001b[1;33m\u001b[0m\u001b[1;33m\u001b[0m\u001b[0m\n\u001b[0;32m    761\u001b[0m \u001b[1;33m\u001b[0m\u001b[0m\n",
      "\u001b[1;32mC:\\Apps\\Anaconda3\\envs\\gpu-cuda10\\lib\\site-packages\\joblib\\parallel.py\u001b[0m in \u001b[0;36m_dispatch\u001b[1;34m(self, batch)\u001b[0m\n\u001b[0;32m    714\u001b[0m         \u001b[1;32mwith\u001b[0m \u001b[0mself\u001b[0m\u001b[1;33m.\u001b[0m\u001b[0m_lock\u001b[0m\u001b[1;33m:\u001b[0m\u001b[1;33m\u001b[0m\u001b[1;33m\u001b[0m\u001b[0m\n\u001b[0;32m    715\u001b[0m             \u001b[0mjob_idx\u001b[0m \u001b[1;33m=\u001b[0m \u001b[0mlen\u001b[0m\u001b[1;33m(\u001b[0m\u001b[0mself\u001b[0m\u001b[1;33m.\u001b[0m\u001b[0m_jobs\u001b[0m\u001b[1;33m)\u001b[0m\u001b[1;33m\u001b[0m\u001b[1;33m\u001b[0m\u001b[0m\n\u001b[1;32m--> 716\u001b[1;33m             \u001b[0mjob\u001b[0m \u001b[1;33m=\u001b[0m \u001b[0mself\u001b[0m\u001b[1;33m.\u001b[0m\u001b[0m_backend\u001b[0m\u001b[1;33m.\u001b[0m\u001b[0mapply_async\u001b[0m\u001b[1;33m(\u001b[0m\u001b[0mbatch\u001b[0m\u001b[1;33m,\u001b[0m \u001b[0mcallback\u001b[0m\u001b[1;33m=\u001b[0m\u001b[0mcb\u001b[0m\u001b[1;33m)\u001b[0m\u001b[1;33m\u001b[0m\u001b[1;33m\u001b[0m\u001b[0m\n\u001b[0m\u001b[0;32m    717\u001b[0m             \u001b[1;31m# A job can complete so quickly than its callback is\u001b[0m\u001b[1;33m\u001b[0m\u001b[1;33m\u001b[0m\u001b[1;33m\u001b[0m\u001b[0m\n\u001b[0;32m    718\u001b[0m             \u001b[1;31m# called before we get here, causing self._jobs to\u001b[0m\u001b[1;33m\u001b[0m\u001b[1;33m\u001b[0m\u001b[1;33m\u001b[0m\u001b[0m\n",
      "\u001b[1;32mC:\\Apps\\Anaconda3\\envs\\gpu-cuda10\\lib\\site-packages\\joblib\\_parallel_backends.py\u001b[0m in \u001b[0;36mapply_async\u001b[1;34m(self, func, callback)\u001b[0m\n\u001b[0;32m    180\u001b[0m     \u001b[1;32mdef\u001b[0m \u001b[0mapply_async\u001b[0m\u001b[1;33m(\u001b[0m\u001b[0mself\u001b[0m\u001b[1;33m,\u001b[0m \u001b[0mfunc\u001b[0m\u001b[1;33m,\u001b[0m \u001b[0mcallback\u001b[0m\u001b[1;33m=\u001b[0m\u001b[1;32mNone\u001b[0m\u001b[1;33m)\u001b[0m\u001b[1;33m:\u001b[0m\u001b[1;33m\u001b[0m\u001b[1;33m\u001b[0m\u001b[0m\n\u001b[0;32m    181\u001b[0m         \u001b[1;34m\"\"\"Schedule a func to be run\"\"\"\u001b[0m\u001b[1;33m\u001b[0m\u001b[1;33m\u001b[0m\u001b[0m\n\u001b[1;32m--> 182\u001b[1;33m         \u001b[0mresult\u001b[0m \u001b[1;33m=\u001b[0m \u001b[0mImmediateResult\u001b[0m\u001b[1;33m(\u001b[0m\u001b[0mfunc\u001b[0m\u001b[1;33m)\u001b[0m\u001b[1;33m\u001b[0m\u001b[1;33m\u001b[0m\u001b[0m\n\u001b[0m\u001b[0;32m    183\u001b[0m         \u001b[1;32mif\u001b[0m \u001b[0mcallback\u001b[0m\u001b[1;33m:\u001b[0m\u001b[1;33m\u001b[0m\u001b[1;33m\u001b[0m\u001b[0m\n\u001b[0;32m    184\u001b[0m             \u001b[0mcallback\u001b[0m\u001b[1;33m(\u001b[0m\u001b[0mresult\u001b[0m\u001b[1;33m)\u001b[0m\u001b[1;33m\u001b[0m\u001b[1;33m\u001b[0m\u001b[0m\n",
      "\u001b[1;32mC:\\Apps\\Anaconda3\\envs\\gpu-cuda10\\lib\\site-packages\\joblib\\_parallel_backends.py\u001b[0m in \u001b[0;36m__init__\u001b[1;34m(self, batch)\u001b[0m\n\u001b[0;32m    547\u001b[0m         \u001b[1;31m# Don't delay the application, to avoid keeping the input\u001b[0m\u001b[1;33m\u001b[0m\u001b[1;33m\u001b[0m\u001b[1;33m\u001b[0m\u001b[0m\n\u001b[0;32m    548\u001b[0m         \u001b[1;31m# arguments in memory\u001b[0m\u001b[1;33m\u001b[0m\u001b[1;33m\u001b[0m\u001b[1;33m\u001b[0m\u001b[0m\n\u001b[1;32m--> 549\u001b[1;33m         \u001b[0mself\u001b[0m\u001b[1;33m.\u001b[0m\u001b[0mresults\u001b[0m \u001b[1;33m=\u001b[0m \u001b[0mbatch\u001b[0m\u001b[1;33m(\u001b[0m\u001b[1;33m)\u001b[0m\u001b[1;33m\u001b[0m\u001b[1;33m\u001b[0m\u001b[0m\n\u001b[0m\u001b[0;32m    550\u001b[0m \u001b[1;33m\u001b[0m\u001b[0m\n\u001b[0;32m    551\u001b[0m     \u001b[1;32mdef\u001b[0m \u001b[0mget\u001b[0m\u001b[1;33m(\u001b[0m\u001b[0mself\u001b[0m\u001b[1;33m)\u001b[0m\u001b[1;33m:\u001b[0m\u001b[1;33m\u001b[0m\u001b[1;33m\u001b[0m\u001b[0m\n",
      "\u001b[1;32mC:\\Apps\\Anaconda3\\envs\\gpu-cuda10\\lib\\site-packages\\joblib\\parallel.py\u001b[0m in \u001b[0;36m__call__\u001b[1;34m(self)\u001b[0m\n\u001b[0;32m    223\u001b[0m         \u001b[1;32mwith\u001b[0m \u001b[0mparallel_backend\u001b[0m\u001b[1;33m(\u001b[0m\u001b[0mself\u001b[0m\u001b[1;33m.\u001b[0m\u001b[0m_backend\u001b[0m\u001b[1;33m,\u001b[0m \u001b[0mn_jobs\u001b[0m\u001b[1;33m=\u001b[0m\u001b[0mself\u001b[0m\u001b[1;33m.\u001b[0m\u001b[0m_n_jobs\u001b[0m\u001b[1;33m)\u001b[0m\u001b[1;33m:\u001b[0m\u001b[1;33m\u001b[0m\u001b[1;33m\u001b[0m\u001b[0m\n\u001b[0;32m    224\u001b[0m             return [func(*args, **kwargs)\n\u001b[1;32m--> 225\u001b[1;33m                     for func, args, kwargs in self.items]\n\u001b[0m\u001b[0;32m    226\u001b[0m \u001b[1;33m\u001b[0m\u001b[0m\n\u001b[0;32m    227\u001b[0m     \u001b[1;32mdef\u001b[0m \u001b[0m__len__\u001b[0m\u001b[1;33m(\u001b[0m\u001b[0mself\u001b[0m\u001b[1;33m)\u001b[0m\u001b[1;33m:\u001b[0m\u001b[1;33m\u001b[0m\u001b[1;33m\u001b[0m\u001b[0m\n",
      "\u001b[1;32mC:\\Apps\\Anaconda3\\envs\\gpu-cuda10\\lib\\site-packages\\joblib\\parallel.py\u001b[0m in \u001b[0;36m<listcomp>\u001b[1;34m(.0)\u001b[0m\n\u001b[0;32m    223\u001b[0m         \u001b[1;32mwith\u001b[0m \u001b[0mparallel_backend\u001b[0m\u001b[1;33m(\u001b[0m\u001b[0mself\u001b[0m\u001b[1;33m.\u001b[0m\u001b[0m_backend\u001b[0m\u001b[1;33m,\u001b[0m \u001b[0mn_jobs\u001b[0m\u001b[1;33m=\u001b[0m\u001b[0mself\u001b[0m\u001b[1;33m.\u001b[0m\u001b[0m_n_jobs\u001b[0m\u001b[1;33m)\u001b[0m\u001b[1;33m:\u001b[0m\u001b[1;33m\u001b[0m\u001b[1;33m\u001b[0m\u001b[0m\n\u001b[0;32m    224\u001b[0m             return [func(*args, **kwargs)\n\u001b[1;32m--> 225\u001b[1;33m                     for func, args, kwargs in self.items]\n\u001b[0m\u001b[0;32m    226\u001b[0m \u001b[1;33m\u001b[0m\u001b[0m\n\u001b[0;32m    227\u001b[0m     \u001b[1;32mdef\u001b[0m \u001b[0m__len__\u001b[0m\u001b[1;33m(\u001b[0m\u001b[0mself\u001b[0m\u001b[1;33m)\u001b[0m\u001b[1;33m:\u001b[0m\u001b[1;33m\u001b[0m\u001b[1;33m\u001b[0m\u001b[0m\n",
      "\u001b[1;32mC:\\Apps\\Anaconda3\\envs\\gpu-cuda10\\lib\\site-packages\\sklearn\\ensemble\\bagging.py\u001b[0m in \u001b[0;36m_parallel_build_estimators\u001b[1;34m(n_estimators, ensemble, X, y, sample_weight, seeds, total_n_estimators, verbose)\u001b[0m\n\u001b[0;32m    106\u001b[0m                 \u001b[0mcurr_sample_weight\u001b[0m\u001b[1;33m[\u001b[0m\u001b[0mnot_indices_mask\u001b[0m\u001b[1;33m]\u001b[0m \u001b[1;33m=\u001b[0m \u001b[1;36m0\u001b[0m\u001b[1;33m\u001b[0m\u001b[1;33m\u001b[0m\u001b[0m\n\u001b[0;32m    107\u001b[0m \u001b[1;33m\u001b[0m\u001b[0m\n\u001b[1;32m--> 108\u001b[1;33m             \u001b[0mestimator\u001b[0m\u001b[1;33m.\u001b[0m\u001b[0mfit\u001b[0m\u001b[1;33m(\u001b[0m\u001b[0mX\u001b[0m\u001b[1;33m[\u001b[0m\u001b[1;33m:\u001b[0m\u001b[1;33m,\u001b[0m \u001b[0mfeatures\u001b[0m\u001b[1;33m]\u001b[0m\u001b[1;33m,\u001b[0m \u001b[0my\u001b[0m\u001b[1;33m,\u001b[0m \u001b[0msample_weight\u001b[0m\u001b[1;33m=\u001b[0m\u001b[0mcurr_sample_weight\u001b[0m\u001b[1;33m)\u001b[0m\u001b[1;33m\u001b[0m\u001b[1;33m\u001b[0m\u001b[0m\n\u001b[0m\u001b[0;32m    109\u001b[0m \u001b[1;33m\u001b[0m\u001b[0m\n\u001b[0;32m    110\u001b[0m         \u001b[1;32melse\u001b[0m\u001b[1;33m:\u001b[0m\u001b[1;33m\u001b[0m\u001b[1;33m\u001b[0m\u001b[0m\n",
      "\u001b[1;31mMemoryError\u001b[0m: "
     ]
    }
   ],
   "source": [
    "from sklearn.ensemble import BaggingClassifier\n",
    "#不要跑这段，内存不够\n",
    "model = BaggingClassifier(random_state=0, n_estimators=10)\n",
    "model.fit(X_train, Y_train)\n",
    "prediction = model.predict(X_test)\n",
    "print('Accuracy of bagged KNN is :',accuracy_score(prediction, Y_test))"
   ]
  },
  {
   "cell_type": "code",
   "execution_count": null,
   "metadata": {},
   "outputs": [],
   "source": [
    "from sklearn.tree import DecisionTreeClassifier\n",
    "#不要跑这段，内存不够\n",
    "model = DecisionTreeClassifier()\n",
    "model.fit(X_train, Y_train)\n",
    "prediction_decision_tree = model.predict(X_test)\n",
    "print('The accuracy of Decision Tree is', accuracy_score(prediction_decision_tree, Y_test))"
   ]
  },
  {
   "cell_type": "code",
   "execution_count": 100,
   "metadata": {},
   "outputs": [
    {
     "name": "stdout",
     "output_type": "stream",
     "text": [
      "The accuracy of Decision Tree is 0.28597507933201827\n"
     ]
    }
   ],
   "source": [
    "from sklearn.tree import DecisionTreeClassifier\n",
    "#不要跑这段，内存不够\n",
    "model = DecisionTreeClassifier()\n",
    "model.fit(x_train, temp_y_train)\n",
    "prediction_decision_tree = model.predict(x_val)\n",
    "print('The accuracy of Decision Tree is', accuracy_score(prediction_decision_tree, temp_y_val))"
   ]
  },
  {
   "cell_type": "code",
   "execution_count": null,
   "metadata": {},
   "outputs": [],
   "source": [
    "from sklearn.neighbors import KNeighborsClassifier\n",
    "#不要跑这段，内存不够\n",
    "model = KNeighborsClassifier()\n",
    "model.fit(X_train, Y_train)\n",
    "prediction_knn = model.predict(X_test)\n",
    "print('The accuracy of the KNN is', metrics.accuracy_score(prediction_knn, Y_test))\n"
   ]
  },
  {
   "cell_type": "code",
   "execution_count": null,
   "metadata": {},
   "outputs": [],
   "source": [
    "from sklearn.svm import SVC\n",
    "#不要跑这段，内存不够\n",
    "model = SVC(kernel='rbf',C=1,gamma=0.1)\n",
    "model.fit(X_train, Y_train)\n",
    "predict_rsvm = model.predict(X_test)\n",
    "print('Predict accuracy is ',accuracy_score(predict_rsvm,Y_test))\n"
   ]
  },
  {
   "cell_type": "code",
   "execution_count": null,
   "metadata": {},
   "outputs": [],
   "source": [
    "#以下说的是用深度学习方式跑模型，上面的是baseline"
   ]
  },
  {
   "cell_type": "code",
   "execution_count": 15,
   "metadata": {},
   "outputs": [],
   "source": [
    "from keras import backend as K\n",
    "from keras.engine.topology import Layer\n",
    "from keras import initializers, regularizers, constraints\n",
    "\n",
    "from keras.layers import Dense, Input, LSTM, Bidirectional, Activation, Conv1D, GRU, TimeDistributed\n",
    "from keras.layers import Dropout, Embedding, GlobalMaxPooling1D, MaxPooling1D, Add, Flatten, SpatialDropout1D\n",
    "from keras.layers import GlobalAveragePooling1D, BatchNormalization, concatenate\n",
    "from keras.layers import Reshape, merge, Concatenate, Lambda, Average\n",
    "from keras.models import Sequential, Model, load_model\n",
    "from keras.callbacks import ModelCheckpoint\n",
    "from keras.initializers import Constant\n",
    "from keras.layers.merge import add\n",
    "from keras.preprocessing.sequence import pad_sequences\n",
    "from keras.preprocessing import sequence\n",
    "from keras.preprocessing.text import Tokenizer, text_to_word_sequence\n",
    "from keras.utils import np_utils\n",
    "\n",
    "from sklearn.model_selection import train_test_split\n",
    "from sklearn.metrics import confusion_matrix"
   ]
  },
  {
   "cell_type": "code",
   "execution_count": 18,
   "metadata": {},
   "outputs": [
    {
     "data": {
      "text/plain": [
       "36290     “We Shall Overcomb!” Say The 100,000 Marching Against Trump In London Thousands of activists descended on London to march for women’s rights, diversity and equality last Saturday. The Women’s \n",
       "21194     “To The Bone” Didn’t Teach Me Glamour. It Taught Me Respect. Oftentimes, films or TV shows about eating disorders try to convince victims to stop by showing them their sickly thin appearance  \n",
       "29672     “I’m Sorry\"--The Two Tragically Forgotten Words In Customer Service Unfortunately, I was one of those frustrated passengers caught in the midst of the recent spring break travel nightmare that\n",
       "199048    ‘Your Divorce Ruined My Life' What To Do When Your Child Blames You It was Sunday night and Lucas’s mother had had it with her 15-year-old son. “I am just sick of this. Look at this mess. I   \n",
       "193783    ‘You Better Sit Down,' By The Civilians, At Flea Theater The Civilians, the enterprising troupe specializing in documentary theater drawn from interviews, takes its tape recorders             \n",
       "112446    ‘Yes' Is Better Than ‘No' When It Comes To Consensual Sex On Campus                                                                                                                             \n",
       "123546    ‘Worst Mom In The World' Selfies                                                                                                                                                                \n",
       "2932      ‘Will & Grace’ Creator To Donate Gay Bunny Book To Every Grade School In Indiana It's about to be a lot easier for kids in Mike Pence's home state to read “A Day in the Life of Marlon Bundo.” \n",
       "67601     ‘Wild Boar Curling’ Rescues Stranded Wild Boars From Frozen Lake Get this pig in a blanket!                                                                                                     \n",
       "85380     ‘We’re Never Gonna Forget’: Eric Garner’s Family Reflects On His Death One Year Later Eric Garner's family share memories of the family man one year after his death.                           \n",
       "Name: information, dtype: object"
      ]
     },
     "execution_count": 18,
     "metadata": {},
     "output_type": "execute_result"
    }
   ],
   "source": [
    "#写遇到的障碍时，可以参考这篇文章\n",
    "#https://zhuanlan.zhihu.com/p/35586145\n",
    "news.information[:10]"
   ]
  },
  {
   "cell_type": "code",
   "execution_count": 19,
   "metadata": {},
   "outputs": [],
   "source": [
    "def list2str(words):\n",
    "    tempstr = ''\n",
    "    for word in words:\n",
    "        tempstr += word + ' ' #这种拼接效率低\n",
    "    return tempstr"
   ]
  },
  {
   "cell_type": "code",
   "execution_count": null,
   "metadata": {},
   "outputs": [],
   "source": [
    "index = 0 #不要轻易跑这段代码，分词跟清洗会很久很久\n",
    "for text in news_2.TITLE:\n",
    "    temp = re.sub('[^a-zA-Z]', ' ', text)\n",
    "    news_2.TITLE[index] = temp\n",
    "    index += 1\n",
    "    \n",
    "news_2.to_csv('middle_news_2_df.csv')"
   ]
  },
  {
   "cell_type": "code",
   "execution_count": null,
   "metadata": {},
   "outputs": [],
   "source": [
    "index = 0\n",
    "for text in news.information:\n",
    "    temp = re.sub('[^a-zA-Z]', ' ', text)\n",
    "    words = nltk.word_tokenize(temp.lower())#其实就去掉了个空格，有没有都没啥卵用，耗时\n",
    "    words = [word for word in words if len(word) > 2]\n",
    "    news.information[index] = list2str(words)\n",
    "    index += 1"
   ]
  },
  {
   "cell_type": "code",
   "execution_count": null,
   "metadata": {},
   "outputs": [],
   "source": []
  },
  {
   "cell_type": "code",
   "execution_count": null,
   "metadata": {},
   "outputs": [],
   "source": [
    "news.information[:100]"
   ]
  },
  {
   "cell_type": "code",
   "execution_count": null,
   "metadata": {},
   "outputs": [],
   "source": [
    "\n",
    "print(len(news_2))\n",
    "news['words'] = ''\n",
    "print(len(news.words))"
   ]
  },
  {
   "cell_type": "code",
   "execution_count": null,
   "metadata": {},
   "outputs": [],
   "source": [
    "news_2.head()"
   ]
  },
  {
   "cell_type": "code",
   "execution_count": null,
   "metadata": {},
   "outputs": [],
   "source": [
    "news['text'] = news.headline + \" \" + news.short_description\n",
    "# tokenizing\n",
    "tokenizer = Tokenizer()\n",
    "tokenizer.fit_on_texts(news.text)\n",
    "tempX = tokenizer.texts_to_sequences(news.text)\n",
    "print(len(tempX))"
   ]
  },
  {
   "cell_type": "code",
   "execution_count": 5,
   "metadata": {},
   "outputs": [],
   "source": [
    "tokenizer = Tokenizer()\n",
    "tokenizer.fit_on_texts(news_2.TITLE)\n",
    "news_2_X = tokenizer.texts_to_sequences(news_2.TITLE)\n"
   ]
  },
  {
   "cell_type": "code",
   "execution_count": null,
   "metadata": {},
   "outputs": [],
   "source": [
    "#上面是传统机器学习的做法\n",
    "#下面可以扯高级点的词嵌入的做法， glove embedding，不过参考别人做的准确度不搞，数据集不够或者是分词不够好\n",
    "\n",
    "#没清洗掉没意义的字符会对准确率产生影响\n",
    "\n",
    "#news['text'] = news.headline + \" \" + news.short_description\n",
    "# tokenizing\n",
    "tokenizer = Tokenizer()\n",
    "tokenizer.fit_on_texts(news.information)\n",
    "X = tokenizer.texts_to_sequences(news.information)\n",
    "print(len(X))"
   ]
  },
  {
   "cell_type": "code",
   "execution_count": null,
   "metadata": {},
   "outputs": [],
   "source": [
    "print(news_2_X[:10])"
   ]
  },
  {
   "cell_type": "code",
   "execution_count": null,
   "metadata": {},
   "outputs": [],
   "source": [
    "news['words'] = X\n",
    "news['word_length'] = news_2.words.apply(lambda i: len(i))\n",
    "news = news[news.word_length >= 5]"
   ]
  },
  {
   "cell_type": "code",
   "execution_count": 6,
   "metadata": {},
   "outputs": [],
   "source": [
    "news_2['words'] = news_2_X\n",
    "news_2['word_length'] = news_2.words.apply(lambda i: len(i))\n",
    "news_2 = news_2[news_2.word_length >= 5]"
   ]
  },
  {
   "cell_type": "code",
   "execution_count": 22,
   "metadata": {},
   "outputs": [
    {
     "ename": "AttributeError",
     "evalue": "'DataFrame' object has no attribute 'word_length'",
     "output_type": "error",
     "traceback": [
      "\u001b[0;31m---------------------------------------------------------------------------\u001b[0m",
      "\u001b[0;31mAttributeError\u001b[0m                            Traceback (most recent call last)",
      "\u001b[0;32m<ipython-input-22-2a3e92611399>\u001b[0m in \u001b[0;36m<module>\u001b[0;34m\u001b[0m\n\u001b[0;32m----> 1\u001b[0;31m \u001b[0mnews\u001b[0m\u001b[0;34m.\u001b[0m\u001b[0mword_length\u001b[0m\u001b[0;34m.\u001b[0m\u001b[0mdescribe\u001b[0m\u001b[0;34m(\u001b[0m\u001b[0;34m)\u001b[0m\u001b[0;34m\u001b[0m\u001b[0;34m\u001b[0m\u001b[0m\n\u001b[0m",
      "\u001b[0;32m/opt/conda/lib/python3.7/site-packages/pandas/core/generic.py\u001b[0m in \u001b[0;36m__getattr__\u001b[0;34m(self, name)\u001b[0m\n\u001b[1;32m   5272\u001b[0m             \u001b[0;32mif\u001b[0m \u001b[0mself\u001b[0m\u001b[0;34m.\u001b[0m\u001b[0m_info_axis\u001b[0m\u001b[0;34m.\u001b[0m\u001b[0m_can_hold_identifiers_and_holds_name\u001b[0m\u001b[0;34m(\u001b[0m\u001b[0mname\u001b[0m\u001b[0;34m)\u001b[0m\u001b[0;34m:\u001b[0m\u001b[0;34m\u001b[0m\u001b[0;34m\u001b[0m\u001b[0m\n\u001b[1;32m   5273\u001b[0m                 \u001b[0;32mreturn\u001b[0m \u001b[0mself\u001b[0m\u001b[0;34m[\u001b[0m\u001b[0mname\u001b[0m\u001b[0;34m]\u001b[0m\u001b[0;34m\u001b[0m\u001b[0;34m\u001b[0m\u001b[0m\n\u001b[0;32m-> 5274\u001b[0;31m             \u001b[0;32mreturn\u001b[0m \u001b[0mobject\u001b[0m\u001b[0;34m.\u001b[0m\u001b[0m__getattribute__\u001b[0m\u001b[0;34m(\u001b[0m\u001b[0mself\u001b[0m\u001b[0;34m,\u001b[0m \u001b[0mname\u001b[0m\u001b[0;34m)\u001b[0m\u001b[0;34m\u001b[0m\u001b[0;34m\u001b[0m\u001b[0m\n\u001b[0m\u001b[1;32m   5275\u001b[0m \u001b[0;34m\u001b[0m\u001b[0m\n\u001b[1;32m   5276\u001b[0m     \u001b[0;32mdef\u001b[0m \u001b[0m__setattr__\u001b[0m\u001b[0;34m(\u001b[0m\u001b[0mself\u001b[0m\u001b[0;34m,\u001b[0m \u001b[0mname\u001b[0m\u001b[0;34m:\u001b[0m \u001b[0mstr\u001b[0m\u001b[0;34m,\u001b[0m \u001b[0mvalue\u001b[0m\u001b[0;34m)\u001b[0m \u001b[0;34m->\u001b[0m \u001b[0;32mNone\u001b[0m\u001b[0;34m:\u001b[0m\u001b[0;34m\u001b[0m\u001b[0;34m\u001b[0m\u001b[0m\n",
      "\u001b[0;31mAttributeError\u001b[0m: 'DataFrame' object has no attribute 'word_length'"
     ]
    }
   ],
   "source": [
    "news.word_length.describe()"
   ]
  },
  {
   "cell_type": "code",
   "execution_count": null,
   "metadata": {},
   "outputs": [],
   "source": [
    "# news.head()\n",
    "# news.to_csv('middle_news_df.csv')"
   ]
  },
  {
   "cell_type": "code",
   "execution_count": null,
   "metadata": {},
   "outputs": [],
   "source": [
    "categories = news.groupby('category_merged').size().index.tolist()\n",
    "category_int = {}\n",
    "int_category = {}\n",
    "for i, k in enumerate(categories):\n",
    "    category_int.update({k:i})\n",
    "    int_category.update({i:k})\n",
    "\n",
    "news['c2id'] = news['category_merged'].apply(lambda x: category_int[x])"
   ]
  },
  {
   "cell_type": "code",
   "execution_count": 7,
   "metadata": {},
   "outputs": [],
   "source": [
    "news_2_categories = news_2.groupby('CATEGORY').size().index.tolist()\n",
    "news_2_category_int = {}\n",
    "news_2_int_category = {}\n",
    "for i, k in enumerate(news_2_categories):\n",
    "    news_2_category_int.update({k:i})\n",
    "    news_2_int_category.update({i:k})\n",
    "\n",
    "news_2['c2id'] = news_2['CATEGORY'].apply(lambda x: news_2_category_int[x])"
   ]
  },
  {
   "cell_type": "code",
   "execution_count": 21,
   "metadata": {},
   "outputs": [
    {
     "data": {
      "text/plain": [
       "0        0\n",
       "1        0\n",
       "2        0\n",
       "3        0\n",
       "4        0\n",
       "        ..\n",
       "10299    3\n",
       "10300    3\n",
       "10301    3\n",
       "10302    3\n",
       "10303    3\n",
       "Name: c2id, Length: 10000, dtype: int64"
      ]
     },
     "execution_count": 21,
     "metadata": {},
     "output_type": "execute_result"
    }
   ],
   "source": [
    "news_2.c2id[:10000]"
   ]
  },
  {
   "cell_type": "code",
   "execution_count": 65,
   "metadata": {},
   "outputs": [
    {
     "ename": "KeyError",
     "evalue": "44",
     "output_type": "error",
     "traceback": [
      "\u001b[1;31m---------------------------------------------------------------------------\u001b[0m",
      "\u001b[1;31mKeyError\u001b[0m                                  Traceback (most recent call last)",
      "\u001b[1;32m<ipython-input-65-c1004e08a709>\u001b[0m in \u001b[0;36m<module>\u001b[1;34m\u001b[0m\n\u001b[0;32m      2\u001b[0m \u001b[1;33m\u001b[0m\u001b[0m\n\u001b[0;32m      3\u001b[0m \u001b[1;32mfor\u001b[0m \u001b[0mc\u001b[0m \u001b[1;32min\u001b[0m \u001b[0mnews_2\u001b[0m\u001b[1;33m[\u001b[0m\u001b[1;34m'CATEGORY'\u001b[0m\u001b[1;33m]\u001b[0m\u001b[1;33m:\u001b[0m\u001b[1;33m\u001b[0m\u001b[1;33m\u001b[0m\u001b[0m\n\u001b[1;32m----> 4\u001b[1;33m     \u001b[1;32mif\u001b[0m \u001b[0mnews_2\u001b[0m\u001b[1;33m[\u001b[0m\u001b[1;34m'CATEGORY'\u001b[0m\u001b[1;33m]\u001b[0m\u001b[1;33m[\u001b[0m\u001b[0mindex\u001b[0m\u001b[1;33m]\u001b[0m \u001b[1;33m==\u001b[0m \u001b[1;34m'm'\u001b[0m\u001b[1;33m:\u001b[0m\u001b[1;33m\u001b[0m\u001b[1;33m\u001b[0m\u001b[0m\n\u001b[0m\u001b[0;32m      5\u001b[0m         \u001b[0mprint\u001b[0m\u001b[1;33m(\u001b[0m\u001b[0mc\u001b[0m\u001b[1;33m)\u001b[0m\u001b[1;33m\u001b[0m\u001b[1;33m\u001b[0m\u001b[0m\n\u001b[0;32m      6\u001b[0m         \u001b[1;32mbreak\u001b[0m\u001b[1;33m\u001b[0m\u001b[1;33m\u001b[0m\u001b[0m\n",
      "\u001b[1;32mC:\\Apps\\Anaconda3\\envs\\gpu-cuda10\\lib\\site-packages\\pandas\\core\\series.py\u001b[0m in \u001b[0;36m__getitem__\u001b[1;34m(self, key)\u001b[0m\n\u001b[0;32m   1066\u001b[0m         \u001b[0mkey\u001b[0m \u001b[1;33m=\u001b[0m \u001b[0mcom\u001b[0m\u001b[1;33m.\u001b[0m\u001b[0mapply_if_callable\u001b[0m\u001b[1;33m(\u001b[0m\u001b[0mkey\u001b[0m\u001b[1;33m,\u001b[0m \u001b[0mself\u001b[0m\u001b[1;33m)\u001b[0m\u001b[1;33m\u001b[0m\u001b[1;33m\u001b[0m\u001b[0m\n\u001b[0;32m   1067\u001b[0m         \u001b[1;32mtry\u001b[0m\u001b[1;33m:\u001b[0m\u001b[1;33m\u001b[0m\u001b[1;33m\u001b[0m\u001b[0m\n\u001b[1;32m-> 1068\u001b[1;33m             \u001b[0mresult\u001b[0m \u001b[1;33m=\u001b[0m \u001b[0mself\u001b[0m\u001b[1;33m.\u001b[0m\u001b[0mindex\u001b[0m\u001b[1;33m.\u001b[0m\u001b[0mget_value\u001b[0m\u001b[1;33m(\u001b[0m\u001b[0mself\u001b[0m\u001b[1;33m,\u001b[0m \u001b[0mkey\u001b[0m\u001b[1;33m)\u001b[0m\u001b[1;33m\u001b[0m\u001b[1;33m\u001b[0m\u001b[0m\n\u001b[0m\u001b[0;32m   1069\u001b[0m \u001b[1;33m\u001b[0m\u001b[0m\n\u001b[0;32m   1070\u001b[0m             \u001b[1;32mif\u001b[0m \u001b[1;32mnot\u001b[0m \u001b[0mis_scalar\u001b[0m\u001b[1;33m(\u001b[0m\u001b[0mresult\u001b[0m\u001b[1;33m)\u001b[0m\u001b[1;33m:\u001b[0m\u001b[1;33m\u001b[0m\u001b[1;33m\u001b[0m\u001b[0m\n",
      "\u001b[1;32mC:\\Apps\\Anaconda3\\envs\\gpu-cuda10\\lib\\site-packages\\pandas\\core\\indexes\\base.py\u001b[0m in \u001b[0;36mget_value\u001b[1;34m(self, series, key)\u001b[0m\n\u001b[0;32m   4728\u001b[0m         \u001b[0mk\u001b[0m \u001b[1;33m=\u001b[0m \u001b[0mself\u001b[0m\u001b[1;33m.\u001b[0m\u001b[0m_convert_scalar_indexer\u001b[0m\u001b[1;33m(\u001b[0m\u001b[0mk\u001b[0m\u001b[1;33m,\u001b[0m \u001b[0mkind\u001b[0m\u001b[1;33m=\u001b[0m\u001b[1;34m\"getitem\"\u001b[0m\u001b[1;33m)\u001b[0m\u001b[1;33m\u001b[0m\u001b[1;33m\u001b[0m\u001b[0m\n\u001b[0;32m   4729\u001b[0m         \u001b[1;32mtry\u001b[0m\u001b[1;33m:\u001b[0m\u001b[1;33m\u001b[0m\u001b[1;33m\u001b[0m\u001b[0m\n\u001b[1;32m-> 4730\u001b[1;33m             \u001b[1;32mreturn\u001b[0m \u001b[0mself\u001b[0m\u001b[1;33m.\u001b[0m\u001b[0m_engine\u001b[0m\u001b[1;33m.\u001b[0m\u001b[0mget_value\u001b[0m\u001b[1;33m(\u001b[0m\u001b[0ms\u001b[0m\u001b[1;33m,\u001b[0m \u001b[0mk\u001b[0m\u001b[1;33m,\u001b[0m \u001b[0mtz\u001b[0m\u001b[1;33m=\u001b[0m\u001b[0mgetattr\u001b[0m\u001b[1;33m(\u001b[0m\u001b[0mseries\u001b[0m\u001b[1;33m.\u001b[0m\u001b[0mdtype\u001b[0m\u001b[1;33m,\u001b[0m \u001b[1;34m\"tz\"\u001b[0m\u001b[1;33m,\u001b[0m \u001b[1;32mNone\u001b[0m\u001b[1;33m)\u001b[0m\u001b[1;33m)\u001b[0m\u001b[1;33m\u001b[0m\u001b[1;33m\u001b[0m\u001b[0m\n\u001b[0m\u001b[0;32m   4731\u001b[0m         \u001b[1;32mexcept\u001b[0m \u001b[0mKeyError\u001b[0m \u001b[1;32mas\u001b[0m \u001b[0me1\u001b[0m\u001b[1;33m:\u001b[0m\u001b[1;33m\u001b[0m\u001b[1;33m\u001b[0m\u001b[0m\n\u001b[0;32m   4732\u001b[0m             \u001b[1;32mif\u001b[0m \u001b[0mlen\u001b[0m\u001b[1;33m(\u001b[0m\u001b[0mself\u001b[0m\u001b[1;33m)\u001b[0m \u001b[1;33m>\u001b[0m \u001b[1;36m0\u001b[0m \u001b[1;32mand\u001b[0m \u001b[1;33m(\u001b[0m\u001b[0mself\u001b[0m\u001b[1;33m.\u001b[0m\u001b[0mholds_integer\u001b[0m\u001b[1;33m(\u001b[0m\u001b[1;33m)\u001b[0m \u001b[1;32mor\u001b[0m \u001b[0mself\u001b[0m\u001b[1;33m.\u001b[0m\u001b[0mis_boolean\u001b[0m\u001b[1;33m(\u001b[0m\u001b[1;33m)\u001b[0m\u001b[1;33m)\u001b[0m\u001b[1;33m:\u001b[0m\u001b[1;33m\u001b[0m\u001b[1;33m\u001b[0m\u001b[0m\n",
      "\u001b[1;32mpandas\\_libs\\index.pyx\u001b[0m in \u001b[0;36mpandas._libs.index.IndexEngine.get_value\u001b[1;34m()\u001b[0m\n",
      "\u001b[1;32mpandas\\_libs\\index.pyx\u001b[0m in \u001b[0;36mpandas._libs.index.IndexEngine.get_value\u001b[1;34m()\u001b[0m\n",
      "\u001b[1;32mpandas\\_libs\\index.pyx\u001b[0m in \u001b[0;36mpandas._libs.index.IndexEngine.get_loc\u001b[1;34m()\u001b[0m\n",
      "\u001b[1;32mpandas\\_libs\\hashtable_class_helper.pxi\u001b[0m in \u001b[0;36mpandas._libs.hashtable.Int64HashTable.get_item\u001b[1;34m()\u001b[0m\n",
      "\u001b[1;32mpandas\\_libs\\hashtable_class_helper.pxi\u001b[0m in \u001b[0;36mpandas._libs.hashtable.Int64HashTable.get_item\u001b[1;34m()\u001b[0m\n",
      "\u001b[1;31mKeyError\u001b[0m: 44"
     ]
    }
   ],
   "source": [
    "index = 0\n",
    "\n",
    "for c in news_2['CATEGORY']:\n",
    "    if news_2['CATEGORY'][index] == 'm':\n",
    "        print(c)\n",
    "        break\n",
    "    index += 1"
   ]
  },
  {
   "cell_type": "code",
   "execution_count": 9,
   "metadata": {},
   "outputs": [
    {
     "name": "stdout",
     "output_type": "stream",
     "text": [
      "Found 49616 unique tokens.\n",
      "Total 400000 word vectors.\n"
     ]
    }
   ],
   "source": [
    "#用词包做词嵌入，事先导入别人预训练好的词向量模型来做词嵌入\n",
    "word_index = tokenizer.word_index\n",
    "EMBEDDING_DIM = 100\n",
    "embeddings_index = {}\n",
    "f = open('C:\\\\Users\\\\jz3f19\\\\Downloads\\\\glove.6B.100d.txt\\\\glove.6B.100d.txt', encoding=\"utf8\")\n",
    "for line in f:\n",
    "    values = line.split()\n",
    "    word = values[0]\n",
    "    coefs = np.asarray(values[1:], dtype='float32')\n",
    "    embeddings_index[word] = coefs\n",
    "f.close()\n",
    "\n",
    "print('Found %s unique tokens.' % len(word_index))\n",
    "print('Total %s word vectors.' % len(embeddings_index))"
   ]
  },
  {
   "cell_type": "code",
   "execution_count": 10,
   "metadata": {},
   "outputs": [
    {
     "name": "stderr",
     "output_type": "stream",
     "text": [
      "WARNING: Logging before flag parsing goes to stderr.\n",
      "W0508 13:11:17.451857 40180 deprecation_wrapper.py:119] From C:\\Apps\\Anaconda3\\envs\\gpu-cuda10\\lib\\site-packages\\keras\\backend\\tensorflow_backend.py:74: The name tf.get_default_graph is deprecated. Please use tf.compat.v1.get_default_graph instead.\n",
      "\n"
     ]
    }
   ],
   "source": [
    "# using 50 for padding length\n",
    "\n",
    "maxlen = 50\n",
    "#X = list(sequence.pad_sequences(news.words, maxlen=maxlen))\n",
    "X_2 = list(sequence.pad_sequences(news_2.words, maxlen=maxlen))\n",
    "#做词嵌入，构建模型，用默认参数\n",
    "embedding_matrix = np.zeros((len(word_index) + 1, EMBEDDING_DIM))\n",
    "for word, i in word_index.items():\n",
    "    embedding_vector = embeddings_index.get(word)\n",
    "    if embedding_vector is not None:\n",
    "        embedding_matrix[i] = embedding_vector\n",
    "\n",
    "embedding_layer = Embedding(len(word_index)+1,\n",
    "                            EMBEDDING_DIM,\n",
    "                            embeddings_initializer=Constant(embedding_matrix),\n",
    "                            input_length=maxlen,\n",
    "                            trainable=False)"
   ]
  },
  {
   "cell_type": "code",
   "execution_count": 11,
   "metadata": {},
   "outputs": [],
   "source": [
    "#同样是k-flod分数据集，这步要严谨点，我不是很懂为什么这样分，seed是超参数\n",
    "X = np.array(X_2)\n",
    "Y = np_utils.to_categorical(list(news_2.c2id))#创造了y值，这步我没想到\n",
    "# and split to training set and validation set\n",
    "seed = 29\n",
    "x_train, x_val, y_train, y_val = train_test_split(X, Y, test_size=0.2, random_state=seed)"
   ]
  },
  {
   "cell_type": "code",
   "execution_count": 12,
   "metadata": {},
   "outputs": [
    {
     "name": "stderr",
     "output_type": "stream",
     "text": [
      "W0508 13:11:17.722096 40180 deprecation_wrapper.py:119] From C:\\Apps\\Anaconda3\\envs\\gpu-cuda10\\lib\\site-packages\\keras\\backend\\tensorflow_backend.py:517: The name tf.placeholder is deprecated. Please use tf.compat.v1.placeholder instead.\n",
      "\n",
      "W0508 13:11:17.815843 40180 deprecation_wrapper.py:119] From C:\\Apps\\Anaconda3\\envs\\gpu-cuda10\\lib\\site-packages\\keras\\backend\\tensorflow_backend.py:4138: The name tf.random_uniform is deprecated. Please use tf.random.uniform instead.\n",
      "\n",
      "W0508 13:11:17.948515 40180 deprecation_wrapper.py:119] From C:\\Apps\\Anaconda3\\envs\\gpu-cuda10\\lib\\site-packages\\keras\\backend\\tensorflow_backend.py:3976: The name tf.nn.max_pool is deprecated. Please use tf.nn.max_pool2d instead.\n",
      "\n",
      "W0508 13:11:17.950501 40180 deprecation_wrapper.py:119] From C:\\Apps\\Anaconda3\\envs\\gpu-cuda10\\lib\\site-packages\\keras\\backend\\tensorflow_backend.py:133: The name tf.placeholder_with_default is deprecated. Please use tf.compat.v1.placeholder_with_default instead.\n",
      "\n",
      "W0508 13:11:17.956486 40180 deprecation.py:506] From C:\\Apps\\Anaconda3\\envs\\gpu-cuda10\\lib\\site-packages\\keras\\backend\\tensorflow_backend.py:3445: calling dropout (from tensorflow.python.ops.nn_ops) with keep_prob is deprecated and will be removed in a future version.\n",
      "Instructions for updating:\n",
      "Please use `rate` instead of `keep_prob`. Rate should be set to `rate = 1 - keep_prob`.\n",
      "W0508 13:11:18.056220 40180 deprecation_wrapper.py:119] From C:\\Apps\\Anaconda3\\envs\\gpu-cuda10\\lib\\site-packages\\keras\\optimizers.py:790: The name tf.train.Optimizer is deprecated. Please use tf.compat.v1.train.Optimizer instead.\n",
      "\n",
      "W0508 13:11:18.074144 40180 deprecation_wrapper.py:119] From C:\\Apps\\Anaconda3\\envs\\gpu-cuda10\\lib\\site-packages\\keras\\backend\\tensorflow_backend.py:3295: The name tf.log is deprecated. Please use tf.math.log instead.\n",
      "\n"
     ]
    },
    {
     "name": "stdout",
     "output_type": "stream",
     "text": [
      "__________________________________________________________________________________________________\n",
      "Layer (type)                    Output Shape         Param #     Connected to                     \n",
      "==================================================================================================\n",
      "input_1 (InputLayer)            (None, 50)           0                                            \n",
      "__________________________________________________________________________________________________\n",
      "embedding_1 (Embedding)         (None, 50, 100)      4961700     input_1[0][0]                    \n",
      "__________________________________________________________________________________________________\n",
      "conv1d_1 (Conv1D)               (None, 50, 64)       12864       embedding_1[0][0]                \n",
      "__________________________________________________________________________________________________\n",
      "conv1d_2 (Conv1D)               (None, 50, 64)       19264       embedding_1[0][0]                \n",
      "__________________________________________________________________________________________________\n",
      "conv1d_3 (Conv1D)               (None, 50, 64)       25664       embedding_1[0][0]                \n",
      "__________________________________________________________________________________________________\n",
      "max_pooling1d_1 (MaxPooling1D)  (None, 16, 64)       0           conv1d_1[0][0]                   \n",
      "__________________________________________________________________________________________________\n",
      "max_pooling1d_2 (MaxPooling1D)  (None, 16, 64)       0           conv1d_2[0][0]                   \n",
      "__________________________________________________________________________________________________\n",
      "max_pooling1d_3 (MaxPooling1D)  (None, 16, 64)       0           conv1d_3[0][0]                   \n",
      "__________________________________________________________________________________________________\n",
      "dropout_1 (Dropout)             (None, 16, 64)       0           max_pooling1d_1[0][0]            \n",
      "__________________________________________________________________________________________________\n",
      "dropout_2 (Dropout)             (None, 16, 64)       0           max_pooling1d_2[0][0]            \n",
      "__________________________________________________________________________________________________\n",
      "dropout_3 (Dropout)             (None, 16, 64)       0           max_pooling1d_3[0][0]            \n",
      "__________________________________________________________________________________________________\n",
      "concatenate_1 (Concatenate)     (None, 16, 192)      0           dropout_1[0][0]                  \n",
      "                                                                 dropout_2[0][0]                  \n",
      "                                                                 dropout_3[0][0]                  \n",
      "__________________________________________________________________________________________________\n",
      "flatten_1 (Flatten)             (None, 3072)         0           concatenate_1[0][0]              \n",
      "__________________________________________________________________________________________________\n",
      "dropout_4 (Dropout)             (None, 3072)         0           flatten_1[0][0]                  \n",
      "__________________________________________________________________________________________________\n",
      "dense_1 (Dense)                 (None, 4)            12292       dropout_4[0][0]                  \n",
      "==================================================================================================\n",
      "Total params: 5,031,784\n",
      "Trainable params: 70,084\n",
      "Non-trainable params: 4,961,700\n",
      "__________________________________________________________________________________________________\n"
     ]
    }
   ],
   "source": [
    "# 构建模型TextCNN\n",
    "inp = Input(shape=(maxlen,), dtype='int32')\n",
    "embedding = embedding_layer(inp)\n",
    "stacks = []\n",
    "for kernel_size in [2, 3, 4]:\n",
    "    conv = Conv1D(64, kernel_size, padding='same', activation='relu', strides=1)(embedding)\n",
    "    pool = MaxPooling1D(pool_size=3)(conv)\n",
    "    drop = Dropout(0.5)(pool)\n",
    "    stacks.append(drop)\n",
    "\n",
    "merged = Concatenate()(stacks)\n",
    "flatten = Flatten()(merged)\n",
    "drop = Dropout(0.5)(flatten)\n",
    "\n",
    "int_category = news_2_int_category\n",
    "outp = Dense(len(int_category), activation='softmax')(drop)\n",
    "\n",
    "TextCNN = Model(inputs=inp, outputs=outp)\n",
    "TextCNN.compile(loss='categorical_crossentropy', optimizer='adam', metrics=['accuracy'])\n",
    "\n",
    "TextCNN.summary()"
   ]
  },
  {
   "cell_type": "code",
   "execution_count": 30,
   "metadata": {},
   "outputs": [
    {
     "name": "stderr",
     "output_type": "stream",
     "text": [
      "W0508 01:00:49.054414 38412 deprecation.py:323] From C:\\Apps\\Anaconda3\\envs\\gpu-cuda10\\lib\\site-packages\\tensorflow\\python\\ops\\math_grad.py:1250: add_dispatch_support.<locals>.wrapper (from tensorflow.python.ops.array_ops) is deprecated and will be removed in a future version.\n",
      "Instructions for updating:\n",
      "Use tf.where in 2.0, which has the same broadcast rule as np.where\n"
     ]
    },
    {
     "name": "stdout",
     "output_type": "stream",
     "text": [
      "Train on 326476 samples, validate on 81619 samples\n",
      "Epoch 1/20\n",
      "326476/326476 [==============================] - 20s 60us/step - loss: 0.4408 - acc: 0.8390 - val_loss: 0.3131 - val_acc: 0.8900\n",
      "Epoch 2/20\n",
      "326476/326476 [==============================] - 13s 41us/step - loss: 0.3613 - acc: 0.8716 - val_loss: 0.2885 - val_acc: 0.8990\n",
      "Epoch 3/20\n",
      "326476/326476 [==============================] - 13s 41us/step - loss: 0.3434 - acc: 0.8786 - val_loss: 0.2673 - val_acc: 0.9083\n",
      "Epoch 4/20\n",
      "326476/326476 [==============================] - 14s 42us/step - loss: 0.3306 - acc: 0.8834 - val_loss: 0.2576 - val_acc: 0.9113\n",
      "Epoch 5/20\n",
      "326476/326476 [==============================] - 14s 42us/step - loss: 0.3234 - acc: 0.8870 - val_loss: 0.2519 - val_acc: 0.9142\n",
      "Epoch 6/20\n",
      "326476/326476 [==============================] - 14s 42us/step - loss: 0.3181 - acc: 0.8888 - val_loss: 0.2477 - val_acc: 0.9144\n",
      "Epoch 7/20\n",
      "326476/326476 [==============================] - 14s 42us/step - loss: 0.3121 - acc: 0.8908 - val_loss: 0.2420 - val_acc: 0.9177\n",
      "Epoch 8/20\n",
      "326476/326476 [==============================] - 14s 42us/step - loss: 0.3088 - acc: 0.8921 - val_loss: 0.2418 - val_acc: 0.9179\n",
      "Epoch 9/20\n",
      "326476/326476 [==============================] - 14s 41us/step - loss: 0.3055 - acc: 0.8928 - val_loss: 0.2371 - val_acc: 0.9191\n",
      "Epoch 10/20\n",
      "326476/326476 [==============================] - 13s 41us/step - loss: 0.3033 - acc: 0.8940 - val_loss: 0.2340 - val_acc: 0.9211\n",
      "Epoch 11/20\n",
      "326476/326476 [==============================] - 13s 41us/step - loss: 0.3002 - acc: 0.8952 - val_loss: 0.2310 - val_acc: 0.9217\n",
      "Epoch 12/20\n",
      "326476/326476 [==============================] - 13s 41us/step - loss: 0.2988 - acc: 0.8953 - val_loss: 0.2306 - val_acc: 0.9210\n",
      "Epoch 13/20\n",
      "326476/326476 [==============================] - 14s 41us/step - loss: 0.2955 - acc: 0.8970 - val_loss: 0.2280 - val_acc: 0.9231\n",
      "Epoch 14/20\n",
      "326476/326476 [==============================] - 14s 42us/step - loss: 0.2945 - acc: 0.8971 - val_loss: 0.2279 - val_acc: 0.9227\n",
      "Epoch 15/20\n",
      "326476/326476 [==============================] - 14s 43us/step - loss: 0.2927 - acc: 0.8975 - val_loss: 0.2250 - val_acc: 0.9243\n",
      "Epoch 16/20\n",
      "326476/326476 [==============================] - 14s 43us/step - loss: 0.2915 - acc: 0.8981 - val_loss: 0.2251 - val_acc: 0.9240\n",
      "Epoch 17/20\n",
      "326476/326476 [==============================] - 14s 43us/step - loss: 0.2912 - acc: 0.8983 - val_loss: 0.2224 - val_acc: 0.9251\n",
      "Epoch 18/20\n",
      "326476/326476 [==============================] - 14s 43us/step - loss: 0.2894 - acc: 0.8988 - val_loss: 0.2231 - val_acc: 0.9241\n",
      "Epoch 19/20\n",
      "326476/326476 [==============================] - 14s 43us/step - loss: 0.2881 - acc: 0.8999 - val_loss: 0.2212 - val_acc: 0.9267\n",
      "Epoch 20/20\n",
      "326476/326476 [==============================] - 14s 43us/step - loss: 0.2856 - acc: 0.9002 - val_loss: 0.2209 - val_acc: 0.9250\n"
     ]
    }
   ],
   "source": [
    "textcnn_history = TextCNN.fit(x_train, y_train, batch_size=128, epochs=20, validation_data=(x_val, y_val))"
   ]
  },
  {
   "cell_type": "code",
   "execution_count": 31,
   "metadata": {},
   "outputs": [
    {
     "name": "stdout",
     "output_type": "stream",
     "text": [
      "81619/81619 [==============================] - 4s 46us/step\n",
      "Test set\n",
      "  Loss: 0.221\n",
      "  Accuracy: 0.925\n"
     ]
    }
   ],
   "source": [
    "from keras.models import load_model\n",
    "\n",
    "accr = TextCNN.evaluate(x_val,y_val)\n",
    "print('Test set\\n  Loss: {:0.3f}\\n  Accuracy: {:0.3f}'.format(accr[0],accr[1]))"
   ]
  },
  {
   "cell_type": "code",
   "execution_count": 32,
   "metadata": {},
   "outputs": [],
   "source": [
    "TextCNN.save('textcnn_model.h5')"
   ]
  },
  {
   "cell_type": "code",
   "execution_count": 36,
   "metadata": {},
   "outputs": [
    {
     "data": {
      "image/png": "[encoded data removed]",
      "text/plain": [
       "<Figure size 432x288 with 1 Axes>"
      ]
     },
     "metadata": {
      "needs_background": "light"
     },
     "output_type": "display_data"
    },
    {
     "data": {
      "image/png": "[encoded data removed]",
      "text/plain": [
       "<Figure size 432x288 with 1 Axes>"
      ]
     },
     "metadata": {
      "needs_background": "light"
     },
     "output_type": "display_data"
    }
   ],
   "source": [
    "#这步会有loss的轨迹图出来，要放在report上\n",
    "acc = textcnn_history.history['acc']\n",
    "val_acc = textcnn_history.history['val_acc']\n",
    "loss = textcnn_history.history['loss']\n",
    "val_loss = textcnn_history.history['val_loss']\n",
    "epochs = range(1, len(acc) + 1)\n",
    "\n",
    "plt.title('Training and validation accuracy')\n",
    "plt.plot(epochs, acc, 'red', label='Training acc')\n",
    "plt.plot(epochs, val_acc, 'blue', label='Validation acc')\n",
    "plt.grid(True)\n",
    "plt.legend()\n",
    "\n",
    "plt.figure()\n",
    "plt.title('Training and validation loss')\n",
    "plt.plot(epochs, loss, 'red', label='Training loss')\n",
    "plt.plot(epochs, val_loss, 'blue', label='Validation loss')\n",
    "plt.legend()\n",
    "plt.grid(True)\n",
    "plt.show()\n",
    "\n",
    "#为什么复杂神经网络的预测效果会比普通的线性回顾要差？"
   ]
  },
  {
   "cell_type": "code",
   "execution_count": 37,
   "metadata": {},
   "outputs": [
    {
     "name": "stdout",
     "output_type": "stream",
     "text": [
      "__________________________________________________________________________________________________\n",
      "Layer (type)                    Output Shape         Param #     Connected to                     \n",
      "==================================================================================================\n",
      "input_2 (InputLayer)            (None, 50)           0                                            \n",
      "__________________________________________________________________________________________________\n",
      "embedding_1 (Embedding)         (None, 50, 100)      4961700     input_2[0][0]                    \n",
      "__________________________________________________________________________________________________\n",
      "spatial_dropout1d_1 (SpatialDro (None, 50, 100)      0           embedding_1[1][0]                \n",
      "__________________________________________________________________________________________________\n",
      "bidirectional_1 (Bidirectional) (None, 50, 256)      175872      spatial_dropout1d_1[0][0]        \n",
      "__________________________________________________________________________________________________\n",
      "conv1d_4 (Conv1D)               (None, 48, 64)       49216       bidirectional_1[0][0]            \n",
      "__________________________________________________________________________________________________\n",
      "global_average_pooling1d_1 (Glo (None, 64)           0           conv1d_4[0][0]                   \n",
      "__________________________________________________________________________________________________\n",
      "global_max_pooling1d_1 (GlobalM (None, 64)           0           conv1d_4[0][0]                   \n",
      "__________________________________________________________________________________________________\n",
      "concatenate_2 (Concatenate)     (None, 128)          0           global_average_pooling1d_1[0][0] \n",
      "                                                                 global_max_pooling1d_1[0][0]     \n",
      "__________________________________________________________________________________________________\n",
      "dense_2 (Dense)                 (None, 4)            516         concatenate_2[0][0]              \n",
      "==================================================================================================\n",
      "Total params: 5,187,304\n",
      "Trainable params: 225,604\n",
      "Non-trainable params: 4,961,700\n",
      "__________________________________________________________________________________________________\n"
     ]
    }
   ],
   "source": [
    "# Bidrectional LSTM with convolution\n",
    "# from https://www.kaggle.com/eashish/bidirectional-gru-with-convolution\n",
    "\n",
    "inp = Input(shape=(maxlen,), dtype='int32')\n",
    "x = embedding_layer(inp)\n",
    "x = SpatialDropout1D(0.2)(x)\n",
    "x = Bidirectional(GRU(128, return_sequences=True, dropout=0.1, recurrent_dropout=0.1))(x)\n",
    "x = Conv1D(64, kernel_size=3)(x)\n",
    "avg_pool = GlobalAveragePooling1D()(x)\n",
    "max_pool = GlobalMaxPooling1D()(x)\n",
    "x = concatenate([avg_pool, max_pool])\n",
    "outp = Dense(len(int_category), activation=\"softmax\")(x)\n",
    "\n",
    "BiGRU = Model(inp, outp)\n",
    "BiGRU.compile(loss='categorical_crossentropy', optimizer='adam', metrics=['acc'])\n",
    "\n",
    "BiGRU.summary()"
   ]
  },
  {
   "cell_type": "code",
   "execution_count": 38,
   "metadata": {},
   "outputs": [
    {
     "name": "stdout",
     "output_type": "stream",
     "text": [
      "Train on 326476 samples, validate on 81619 samples\n",
      "Epoch 1/20\n",
      "326476/326476 [==============================] - 260s 795us/step - loss: 0.3435 - acc: 0.8748 - val_loss: 0.2239 - val_acc: 0.9206\n",
      "Epoch 2/20\n",
      "326476/326476 [==============================] - 272s 832us/step - loss: 0.2441 - acc: 0.9132 - val_loss: 0.1942 - val_acc: 0.9321\n",
      "Epoch 3/20\n",
      "326476/326476 [==============================] - 270s 828us/step - loss: 0.2144 - acc: 0.9238 - val_loss: 0.1741 - val_acc: 0.9403\n",
      "Epoch 4/20\n",
      "326476/326476 [==============================] - 263s 804us/step - loss: 0.1969 - acc: 0.9301 - val_loss: 0.1698 - val_acc: 0.9419\n",
      "Epoch 5/20\n",
      "326476/326476 [==============================] - 267s 818us/step - loss: 0.1856 - acc: 0.9344 - val_loss: 0.1616 - val_acc: 0.9454\n",
      "Epoch 6/20\n",
      "326476/326476 [==============================] - 267s 819us/step - loss: 0.1781 - acc: 0.9368 - val_loss: 0.1548 - val_acc: 0.9464\n",
      "Epoch 7/20\n",
      "326476/326476 [==============================] - 267s 818us/step - loss: 0.1725 - acc: 0.9386 - val_loss: 0.1534 - val_acc: 0.9486\n",
      "Epoch 8/20\n",
      "326476/326476 [==============================] - 267s 817us/step - loss: 0.1662 - acc: 0.9406 - val_loss: 0.1536 - val_acc: 0.9479\n",
      "Epoch 9/20\n",
      "326476/326476 [==============================] - 266s 816us/step - loss: 0.1621 - acc: 0.9421 - val_loss: 0.1514 - val_acc: 0.9495\n",
      "Epoch 10/20\n",
      "326476/326476 [==============================] - 263s 806us/step - loss: 0.1581 - acc: 0.9433 - val_loss: 0.1499 - val_acc: 0.9492\n",
      "Epoch 11/20\n",
      "326476/326476 [==============================] - 262s 802us/step - loss: 0.1561 - acc: 0.9444 - val_loss: 0.1486 - val_acc: 0.9507\n",
      "Epoch 12/20\n",
      "326476/326476 [==============================] - 261s 798us/step - loss: 0.1541 - acc: 0.9448 - val_loss: 0.1473 - val_acc: 0.9511\n",
      "Epoch 13/20\n",
      "326476/326476 [==============================] - 261s 800us/step - loss: 0.1510 - acc: 0.9457 - val_loss: 0.1478 - val_acc: 0.9507\n",
      "Epoch 14/20\n",
      "326476/326476 [==============================] - 262s 803us/step - loss: 0.1491 - acc: 0.9468 - val_loss: 0.1468 - val_acc: 0.9518\n",
      "Epoch 15/20\n",
      "326476/326476 [==============================] - 262s 801us/step - loss: 0.1474 - acc: 0.9467 - val_loss: 0.1465 - val_acc: 0.9513\n",
      "Epoch 16/20\n",
      "326476/326476 [==============================] - 261s 800us/step - loss: 0.1466 - acc: 0.9476 - val_loss: 0.1445 - val_acc: 0.9520\n",
      "Epoch 17/20\n",
      "326476/326476 [==============================] - 261s 800us/step - loss: 0.1455 - acc: 0.9479 - val_loss: 0.1469 - val_acc: 0.9519\n",
      "Epoch 18/20\n",
      "326476/326476 [==============================] - 264s 807us/step - loss: 0.1436 - acc: 0.9483 - val_loss: 0.1450 - val_acc: 0.9529\n",
      "Epoch 19/20\n",
      "326476/326476 [==============================] - 260s 797us/step - loss: 0.1428 - acc: 0.9484 - val_loss: 0.1441 - val_acc: 0.9520\n",
      "Epoch 20/20\n",
      "326476/326476 [==============================] - 262s 803us/step - loss: 0.1411 - acc: 0.9492 - val_loss: 0.1432 - val_acc: 0.9522\n"
     ]
    }
   ],
   "source": [
    "# training takes lots of time\n",
    "bigru_history = BiGRU.fit(x_train, y_train, batch_size=128, epochs=20, validation_data=(x_val, y_val))"
   ]
  },
  {
   "cell_type": "code",
   "execution_count": 39,
   "metadata": {},
   "outputs": [],
   "source": [
    "BiGRU.save('GRU.h5')\n",
    "\n"
   ]
  },
  {
   "cell_type": "code",
   "execution_count": null,
   "metadata": {},
   "outputs": [],
   "source": [
    "bigru_history.history"
   ]
  },
  {
   "cell_type": "code",
   "execution_count": 40,
   "metadata": {},
   "outputs": [
    {
     "data": {
      "image/png": "[encoded data removed]",
      "text/plain": [
       "<Figure size 432x432 with 1 Axes>"
      ]
     },
     "metadata": {
      "needs_background": "light"
     },
     "output_type": "display_data"
    },
    {
     "data": {
      "image/png": "[encoded data removed]",
      "text/plain": [
       "<Figure size 432x432 with 1 Axes>"
      ]
     },
     "metadata": {
      "needs_background": "light"
     },
     "output_type": "display_data"
    }
   ],
   "source": [
    "# Bidrectional LSTM with convolution这个模型的收敛曲线\n",
    "plt.rcParams['figure.figsize'] = (6,6)\n",
    "\n",
    "acc = bigru_history.history['acc']\n",
    "val_acc = bigru_history.history['val_acc']\n",
    "loss = bigru_history.history['loss']\n",
    "val_loss = bigru_history.history['val_loss']\n",
    "epochs = range(1, len(acc) + 1)\n",
    "\n",
    "plt.title('Training and validation accuracy')\n",
    "plt.plot(epochs, acc, 'red', label='Training acc')\n",
    "plt.plot(epochs, val_acc, 'blue', label='Validation acc')\n",
    "plt.legend()\n",
    "plt.grid(True)\n",
    "plt.figure()\n",
    "plt.title('Training and validation loss')\n",
    "plt.plot(epochs, loss, 'red', label='Training loss')\n",
    "plt.plot(epochs, val_loss, 'blue', label='Validation loss')\n",
    "plt.legend()\n",
    "plt.grid(True)\n",
    "plt.show()"
   ]
  },
  {
   "cell_type": "code",
   "execution_count": 41,
   "metadata": {},
   "outputs": [
    {
     "name": "stdout",
     "output_type": "stream",
     "text": [
      "Tensor(\"dropout_5/cond/Merge:0\", shape=(?, ?, 300), dtype=float32)\n",
      "None\n",
      "attention_1_W\n",
      "None\n",
      "(300,)\n",
      "_________________________________________________________________\n",
      "Layer (type)                 Output Shape              Param #   \n",
      "=================================================================\n",
      "input_3 (InputLayer)         (None, 50)                0         \n",
      "_________________________________________________________________\n",
      "embedding_1 (Embedding)      (None, 50, 100)           4961700   \n",
      "_________________________________________________________________\n",
      "lstm_1 (LSTM)                (None, 50, 300)           481200    \n",
      "_________________________________________________________________\n",
      "dropout_5 (Dropout)          (None, 50, 300)           0         \n",
      "_________________________________________________________________\n",
      "attention_1 (Attention)      (None, 300)               350       \n",
      "_________________________________________________________________\n",
      "dense_3 (Dense)              (None, 256)               77056     \n",
      "_________________________________________________________________\n",
      "dropout_6 (Dropout)          (None, 256)               0         \n",
      "_________________________________________________________________\n",
      "batch_normalization_1 (Batch (None, 256)               1024      \n",
      "_________________________________________________________________\n",
      "dense_4 (Dense)              (None, 4)                 1028      \n",
      "=================================================================\n",
      "Total params: 5,522,358\n",
      "Trainable params: 560,146\n",
      "Non-trainable params: 4,962,212\n",
      "_________________________________________________________________\n"
     ]
    }
   ],
   "source": [
    "class Attention(Layer):\n",
    "    def __init__(self, step_dim,\n",
    "                 W_regularizer=None, b_regularizer=None,\n",
    "                 W_constraint=None, b_constraint=None,\n",
    "                 bias=True, **kwargs):\n",
    "        self.supports_masking = True\n",
    "        self.init = initializers.get('glorot_uniform')\n",
    "        self.W_regularizer = regularizers.get(W_regularizer)\n",
    "        self.b_regularizer = regularizers.get(b_regularizer)\n",
    "        self.W_constraint = constraints.get(W_constraint)\n",
    "        self.b_constraint = constraints.get(b_constraint)\n",
    "        #keras版本功能冲突，降低版本       \n",
    "#         self.kernel = self.add_weight(shape=(self.input_dim, self.units),\n",
    "#         name='kernel',\n",
    "#         initializer=self.kernel_initializer,\n",
    "#         regularizer=self.kernel_regularizer,\n",
    "#         constraint=self.kernel_constraint)\n",
    "\n",
    "        self.bias = bias\n",
    "        self.step_dim = step_dim\n",
    "        self.features_dim = 0\n",
    "        super(Attention, self).__init__(**kwargs)\n",
    "\n",
    "    def build(self, input_shape):\n",
    "        assert len(input_shape) == 3\n",
    "        print(self.W_constraint)\n",
    "        print('{}_W'.format(self.name))\n",
    "        print(self.W_regularizer)\n",
    "        print((input_shape[-1],))\n",
    "        self.W = self.add_weight(shape=(input_shape[-1],),\n",
    "                                 initializer=self.init,\n",
    "                                 name='{}_W'.format(self.name),\n",
    "                                 regularizer=self.W_regularizer,\n",
    "                                 constraint=self.W_constraint)\n",
    "        self.features_dim = input_shape[-1]\n",
    "        if self.bias:\n",
    "            self.b = self.add_weight(shape=(input_shape[1],),\n",
    "                                     initializer='zero',\n",
    "                                     name='{}_b'.format(self.name),\n",
    "                                     regularizer=self.b_regularizer,\n",
    "                                     constraint=self.b_constraint)\n",
    "        else:\n",
    "            self.b = None\n",
    "        self.built = True\n",
    "\n",
    "    def compute_mask(self, input, input_mask=None):\n",
    "        return None\n",
    "\n",
    "    def call(self, x, mask=None):\n",
    "        features_dim = self.features_dim\n",
    "        step_dim = self.step_dim\n",
    "        eij = K.reshape(K.dot(K.reshape(x, (-1, features_dim)), K.reshape(self.W, (features_dim, 1))), (-1, step_dim))\n",
    "        if self.bias:\n",
    "            eij += self.b\n",
    "        eij = K.tanh(eij)\n",
    "        a = K.exp(eij)\n",
    "        if mask is not None:\n",
    "            a *= K.cast(mask, K.floatx())\n",
    "        a /= K.cast(K.sum(a, axis=1, keepdims=True) + K.epsilon(), K.floatx())\n",
    "        a = K.expand_dims(a)\n",
    "        weighted_input = x * a\n",
    "        return K.sum(weighted_input, axis=1)\n",
    "\n",
    "    def compute_output_shape(self, input_shape):\n",
    "        return input_shape[0],  self.features_dim\n",
    "    \n",
    "\n",
    "lstm_layer = LSTM(300, dropout=0.25, recurrent_dropout=0.25, return_sequences=True)\n",
    "\n",
    "inp = Input(shape=(maxlen,), dtype='int32')\n",
    "embedding= embedding_layer(inp)\n",
    "x = lstm_layer(embedding)\n",
    "x = Dropout(0.25)(x)\n",
    "print(x)\n",
    "merged = Attention(maxlen)(x)\n",
    "merged = Dense(256, activation='relu')(merged)\n",
    "merged = Dropout(0.25)(merged)\n",
    "merged = BatchNormalization()(merged)\n",
    "outp = Dense(len(int_category), activation='softmax')(merged)\n",
    "\n",
    "AttentionLSTM = Model(inputs=inp, outputs=outp)\n",
    "AttentionLSTM.compile(loss='categorical_crossentropy', optimizer='adam', metrics=['acc'])\n",
    "\n",
    "AttentionLSTM.summary()"
   ]
  },
  {
   "cell_type": "code",
   "execution_count": 42,
   "metadata": {},
   "outputs": [
    {
     "name": "stdout",
     "output_type": "stream",
     "text": [
      "Train on 326476 samples, validate on 81619 samples\n",
      "Epoch 1/20\n",
      "326476/326476 [==============================] - 221s 676us/step - loss: 0.3555 - acc: 0.8706 - val_loss: 0.2358 - val_acc: 0.9156\n",
      "Epoch 2/20\n",
      "326476/326476 [==============================] - 219s 670us/step - loss: 0.2465 - acc: 0.9122 - val_loss: 0.1879 - val_acc: 0.9339\n",
      "Epoch 3/20\n",
      "326476/326476 [==============================] - 219s 671us/step - loss: 0.2109 - acc: 0.9251 - val_loss: 0.1700 - val_acc: 0.9402\n",
      "Epoch 4/20\n",
      "326476/326476 [==============================] - 216s 662us/step - loss: 0.1919 - acc: 0.9322 - val_loss: 0.1564 - val_acc: 0.9458\n",
      "Epoch 5/20\n",
      "326476/326476 [==============================] - 216s 662us/step - loss: 0.1769 - acc: 0.9377 - val_loss: 0.1506 - val_acc: 0.9475\n",
      "Epoch 6/20\n",
      "326476/326476 [==============================] - 216s 662us/step - loss: 0.1669 - acc: 0.9409 - val_loss: 0.1427 - val_acc: 0.9511\n",
      "Epoch 7/20\n",
      "326476/326476 [==============================] - 216s 662us/step - loss: 0.1601 - acc: 0.9429 - val_loss: 0.1421 - val_acc: 0.9510\n",
      "Epoch 8/20\n",
      "326476/326476 [==============================] - 216s 663us/step - loss: 0.1530 - acc: 0.9454 - val_loss: 0.1388 - val_acc: 0.9525\n",
      "Epoch 9/20\n",
      "326476/326476 [==============================] - 216s 661us/step - loss: 0.1469 - acc: 0.9475 - val_loss: 0.1375 - val_acc: 0.9530\n",
      "Epoch 10/20\n",
      "326476/326476 [==============================] - 216s 662us/step - loss: 0.1419 - acc: 0.9494 - val_loss: 0.1361 - val_acc: 0.9544\n",
      "Epoch 11/20\n",
      "326476/326476 [==============================] - 216s 662us/step - loss: 0.1386 - acc: 0.9506 - val_loss: 0.1347 - val_acc: 0.9539\n",
      "Epoch 12/20\n",
      "326476/326476 [==============================] - 216s 662us/step - loss: 0.1352 - acc: 0.9517 - val_loss: 0.1320 - val_acc: 0.9556\n",
      "Epoch 13/20\n",
      "326476/326476 [==============================] - 217s 663us/step - loss: 0.1333 - acc: 0.9518 - val_loss: 0.1313 - val_acc: 0.9571\n",
      "Epoch 14/20\n",
      "326476/326476 [==============================] - 218s 666us/step - loss: 0.1293 - acc: 0.9530 - val_loss: 0.1317 - val_acc: 0.9566\n",
      "Epoch 15/20\n",
      "326476/326476 [==============================] - 217s 666us/step - loss: 0.1273 - acc: 0.9541 - val_loss: 0.1307 - val_acc: 0.9567\n",
      "Epoch 16/20\n",
      "326476/326476 [==============================] - 217s 666us/step - loss: 0.1263 - acc: 0.9543 - val_loss: 0.1300 - val_acc: 0.9567\n",
      "Epoch 17/20\n",
      "326476/326476 [==============================] - 216s 662us/step - loss: 0.1246 - acc: 0.9548 - val_loss: 0.1274 - val_acc: 0.9584\n",
      "Epoch 18/20\n",
      "326476/326476 [==============================] - 216s 662us/step - loss: 0.1225 - acc: 0.9558 - val_loss: 0.1300 - val_acc: 0.9581\n",
      "Epoch 19/20\n",
      "326476/326476 [==============================] - 216s 662us/step - loss: 0.1207 - acc: 0.9563 - val_loss: 0.1285 - val_acc: 0.9573\n",
      "Epoch 20/20\n",
      "326476/326476 [==============================] - 218s 667us/step - loss: 0.1198 - acc: 0.9565 - val_loss: 0.1280 - val_acc: 0.9580\n"
     ]
    }
   ],
   "source": [
    "attlstm_history = AttentionLSTM.fit(x_train, y_train, batch_size=128, epochs=20, validation_data=(x_val, y_val))\n",
    "\n"
   ]
  },
  {
   "cell_type": "code",
   "execution_count": 43,
   "metadata": {},
   "outputs": [
    {
     "data": {
      "image/png": "[encoded data removed]",
      "text/plain": [
       "<Figure size 432x432 with 1 Axes>"
      ]
     },
     "metadata": {
      "needs_background": "light"
     },
     "output_type": "display_data"
    },
    {
     "data": {
      "image/png": "[encoded data removed]",
      "text/plain": [
       "<Figure size 432x432 with 1 Axes>"
      ]
     },
     "metadata": {
      "needs_background": "light"
     },
     "output_type": "display_data"
    }
   ],
   "source": [
    "acc = attlstm_history.history['acc']\n",
    "val_acc = attlstm_history.history['val_acc']\n",
    "loss = attlstm_history.history['loss']\n",
    "val_loss = attlstm_history.history['val_loss']\n",
    "epochs = range(1, len(acc) + 1)\n",
    "\n",
    "plt.title('Training and validation accuracy')\n",
    "plt.plot(epochs, acc, 'red', label='Training acc')\n",
    "plt.plot(epochs, val_acc, 'blue', label='Validation acc')\n",
    "plt.legend()\n",
    "plt.grid(True)\n",
    "plt.figure()\n",
    "plt.title('Training and validation loss')\n",
    "plt.plot(epochs, loss, 'red', label='Training loss')\n",
    "plt.plot(epochs, val_loss, 'blue', label='Validation loss')\n",
    "plt.legend()\n",
    "plt.grid(True)\n",
    "plt.show()"
   ]
  },
  {
   "cell_type": "code",
   "execution_count": 44,
   "metadata": {},
   "outputs": [],
   "source": [
    "AttentionLSTM.save('attention.h5')"
   ]
  },
  {
   "cell_type": "code",
   "execution_count": 45,
   "metadata": {},
   "outputs": [
    {
     "data": {
      "text/html": [
       "<div>\n",
       "<style scoped>\n",
       "    .dataframe tbody tr th:only-of-type {\n",
       "        vertical-align: middle;\n",
       "    }\n",
       "\n",
       "    .dataframe tbody tr th {\n",
       "        vertical-align: top;\n",
       "    }\n",
       "\n",
       "    .dataframe thead th {\n",
       "        text-align: right;\n",
       "    }\n",
       "</style>\n",
       "<table border=\"1\" class=\"dataframe\">\n",
       "  <thead>\n",
       "    <tr style=\"text-align: right;\">\n",
       "      <th></th>\n",
       "      <th>0</th>\n",
       "      <th>1</th>\n",
       "      <th>2</th>\n",
       "      <th>3</th>\n",
       "    </tr>\n",
       "  </thead>\n",
       "  <tbody>\n",
       "    <tr>\n",
       "      <td>0</td>\n",
       "      <td>20732</td>\n",
       "      <td>268</td>\n",
       "      <td>193</td>\n",
       "      <td>915</td>\n",
       "    </tr>\n",
       "    <tr>\n",
       "      <td>1</td>\n",
       "      <td>198</td>\n",
       "      <td>29053</td>\n",
       "      <td>86</td>\n",
       "      <td>205</td>\n",
       "    </tr>\n",
       "    <tr>\n",
       "      <td>2</td>\n",
       "      <td>189</td>\n",
       "      <td>150</td>\n",
       "      <td>8500</td>\n",
       "      <td>106</td>\n",
       "    </tr>\n",
       "    <tr>\n",
       "      <td>3</td>\n",
       "      <td>802</td>\n",
       "      <td>255</td>\n",
       "      <td>63</td>\n",
       "      <td>19904</td>\n",
       "    </tr>\n",
       "  </tbody>\n",
       "</table>\n",
       "</div>"
      ],
      "text/plain": [
       "       0      1     2      3\n",
       "0  20732    268   193    915\n",
       "1    198  29053    86    205\n",
       "2    189    150  8500    106\n",
       "3    802    255    63  19904"
      ]
     },
     "metadata": {},
     "output_type": "display_data"
    }
   ],
   "source": [
    "#confusion matrix\n",
    "predicted = AttentionLSTM.predict(x_val)\n",
    "cm = pd.DataFrame(confusion_matrix(y_val.argmax(axis=1), predicted.argmax(axis=1)))\n",
    "from IPython.display import display\n",
    "pd.options.display.max_columns = None\n",
    "display(cm)"
   ]
  },
  {
   "cell_type": "code",
   "execution_count": 46,
   "metadata": {},
   "outputs": [
    {
     "name": "stdout",
     "output_type": "stream",
     "text": [
      "model TextCNN accuracy:          0.924956\n",
      "model Bidirectional GRU + Conv:  0.952229\n",
      "model LSTM with Attention:       0.957975\n"
     ]
    }
   ],
   "source": [
    "#评估准确度\n",
    "def evaluate_accuracy(model):\n",
    "    predicted = model.predict(x_val)\n",
    "    diff = y_val.argmax(axis=-1) - predicted.argmax(axis=-1)\n",
    "    corrects = np.where(diff == 0)[0].shape[0]\n",
    "    total = y_val.shape[0]\n",
    "    return float(corrects/total)\n",
    "print(\"model TextCNN accuracy:          %.6f\" % evaluate_accuracy(TextCNN))\n",
    "print(\"model Bidirectional GRU + Conv:  %.6f\" % evaluate_accuracy(BiGRU))\n",
    "print(\"model LSTM with Attention:       %.6f\" % evaluate_accuracy(AttentionLSTM))"
   ]
  },
  {
   "cell_type": "code",
   "execution_count": 47,
   "metadata": {},
   "outputs": [
    {
     "name": "stdout",
     "output_type": "stream",
     "text": [
      "0.9572771045957437\n"
     ]
    }
   ],
   "source": [
    "#做到这步其实就是为了扯个模型融合的问题，虽然上面准确度很低，但是可以用别的高准确度模型来融合，这个应该会加分不少\n",
    "def evaluate_accuracy_ensemble(models):\n",
    "    res = np.zeros(shape=y_val.shape)\n",
    "    for model in models:\n",
    "        predicted = model.predict(x_val)\n",
    "        res += predicted\n",
    "    res /= len(models)\n",
    "    diff = y_val.argmax(axis=-1) - res.argmax(axis=-1)\n",
    "    corrects = np.where(diff == 0)[0].shape[0]\n",
    "    total = y_val.shape[0]\n",
    "    return float(corrects/total)\n",
    "\n",
    "#模型融合前的分数是多少，融合之后的提升又是多少\n",
    "print(evaluate_accuracy_ensemble([TextCNN, BiGRU, AttentionLSTM]))\n"
   ]
  },
  {
   "cell_type": "code",
   "execution_count": 13,
   "metadata": {},
   "outputs": [
    {
     "name": "stdout",
     "output_type": "stream",
     "text": [
      "81619/81619 [==============================] - 6s 72us/step\n",
      "Test set\n",
      "  Loss: 0.221\n",
      "  Accuracy: 0.925\n"
     ]
    }
   ],
   "source": [
    "TextCNN.load_weights(\"textcnn_model.h5\")\n",
    "accr = TextCNN.evaluate(x_val,y_val)\n",
    "print('Test set\\n  Loss: {:0.3f}\\n  Accuracy: {:0.3f}'.format(accr[0],accr[1]))"
   ]
  },
  {
   "cell_type": "code",
   "execution_count": null,
   "metadata": {},
   "outputs": [],
   "source": []
  },
  {
   "cell_type": "code",
   "execution_count": 80,
   "metadata": {},
   "outputs": [
    {
     "data": {
      "text/html": [
       "<div>\n",
       "<style scoped>\n",
       "    .dataframe tbody tr th:only-of-type {\n",
       "        vertical-align: middle;\n",
       "    }\n",
       "\n",
       "    .dataframe tbody tr th {\n",
       "        vertical-align: top;\n",
       "    }\n",
       "\n",
       "    .dataframe thead th {\n",
       "        text-align: right;\n",
       "    }\n",
       "</style>\n",
       "<table border=\"1\" class=\"dataframe\">\n",
       "  <thead>\n",
       "    <tr style=\"text-align: right;\">\n",
       "      <th></th>\n",
       "      <th>Unnamed: 0</th>\n",
       "      <th>ID</th>\n",
       "      <th>TITLE</th>\n",
       "      <th>URL</th>\n",
       "      <th>PUBLISHER</th>\n",
       "      <th>CATEGORY</th>\n",
       "      <th>STORY</th>\n",
       "      <th>HOSTNAME</th>\n",
       "      <th>TIMESTAMP</th>\n",
       "      <th>words</th>\n",
       "      <th>word_length</th>\n",
       "      <th>c2id</th>\n",
       "    </tr>\n",
       "  </thead>\n",
       "  <tbody>\n",
       "    <tr>\n",
       "      <td>4207</td>\n",
       "      <td>4207</td>\n",
       "      <td>4208</td>\n",
       "      <td>Grown ups  Put down the smartphones at mealtime</td>\n",
       "      <td>http://www.ketknbc.com/news/grown-ups-put-down-the-smartphones-at-mealtime</td>\n",
       "      <td>KETK</td>\n",
       "      <td>m</td>\n",
       "      <td>dZphfxYr-HPiv2MLDkthjDyocSQCM</td>\n",
       "      <td>www.ketknbc.com</td>\n",
       "      <td>1394547690684</td>\n",
       "      <td>[2576, 1881, 1103, 90, 3, 1478, 12, 16710]</td>\n",
       "      <td>8</td>\n",
       "      <td>2</td>\n",
       "    </tr>\n",
       "    <tr>\n",
       "      <td>4208</td>\n",
       "      <td>4208</td>\n",
       "      <td>4209</td>\n",
       "      <td>Cellphone addiction may damage parent child bond  Study</td>\n",
       "      <td>http://gadgets.ndtv.com/mobiles/news/cellphone-addiction-may-damage-parent-child-bond-study-494397</td>\n",
       "      <td>NDTV</td>\n",
       "      <td>m</td>\n",
       "      <td>dZphfxYr-HPiv2MLDkthjDyocSQCM</td>\n",
       "      <td>gadgets.ndtv.com</td>\n",
       "      <td>1394547690827</td>\n",
       "      <td>[4248, 5131, 33, 2651, 4474, 663, 1128, 78]</td>\n",
       "      <td>8</td>\n",
       "      <td>2</td>\n",
       "    </tr>\n",
       "    <tr>\n",
       "      <td>4209</td>\n",
       "      <td>4209</td>\n",
       "      <td>4210</td>\n",
       "      <td>Parents won t stop using smartphones even while eating with kids</td>\n",
       "      <td>http://www.mnn.com/family/family-activities/stories/parents-wont-stop-using-smartphones-even-while-eating-with-kids</td>\n",
       "      <td>Mother Nature Network</td>\n",
       "      <td>m</td>\n",
       "      <td>dZphfxYr-HPiv2MLDkthjDyocSQCM</td>\n",
       "      <td>www.mnn.com</td>\n",
       "      <td>1394547691052</td>\n",
       "      <td>[1328, 353, 21, 488, 841, 1478, 758, 603, 1619, 10, 414]</td>\n",
       "      <td>11</td>\n",
       "      <td>2</td>\n",
       "    </tr>\n",
       "    <tr>\n",
       "      <td>4210</td>\n",
       "      <td>4210</td>\n",
       "      <td>4211</td>\n",
       "      <td>Smartphones making parents ignore their kids</td>\n",
       "      <td>http://timesofindia.indiatimes.com/life-style/relationships/parenting/Smartphones-making-parents-ignore-their-kids/articleshow/31850683.cms</td>\n",
       "      <td>Times of India</td>\n",
       "      <td>m</td>\n",
       "      <td>dZphfxYr-HPiv2MLDkthjDyocSQCM</td>\n",
       "      <td>timesofindia.indiatimes.com</td>\n",
       "      <td>1394547691288</td>\n",
       "      <td>[1478, 804, 1328, 4750, 239, 414]</td>\n",
       "      <td>6</td>\n",
       "      <td>2</td>\n",
       "    </tr>\n",
       "    <tr>\n",
       "      <td>4211</td>\n",
       "      <td>4211</td>\n",
       "      <td>4212</td>\n",
       "      <td>Smartphones can loosen emotional bonding with your children  Study</td>\n",
       "      <td>http://www.utahpeoplespost.com/2014/03/smartphones-can-loosen-emotional-bonding-with-your-children-study/</td>\n",
       "      <td>The Utah People's Post</td>\n",
       "      <td>m</td>\n",
       "      <td>dZphfxYr-HPiv2MLDkthjDyocSQCM</td>\n",
       "      <td>www.utahpeoplespost.com</td>\n",
       "      <td>1394547691482</td>\n",
       "      <td>[1478, 77, 14869, 1931, 16711, 10, 52, 504, 78]</td>\n",
       "      <td>9</td>\n",
       "      <td>2</td>\n",
       "    </tr>\n",
       "    <tr>\n",
       "      <td>...</td>\n",
       "      <td>...</td>\n",
       "      <td>...</td>\n",
       "      <td>...</td>\n",
       "      <td>...</td>\n",
       "      <td>...</td>\n",
       "      <td>...</td>\n",
       "      <td>...</td>\n",
       "      <td>...</td>\n",
       "      <td>...</td>\n",
       "      <td>...</td>\n",
       "      <td>...</td>\n",
       "      <td>...</td>\n",
       "    </tr>\n",
       "    <tr>\n",
       "      <td>422414</td>\n",
       "      <td>422414</td>\n",
       "      <td>422933</td>\n",
       "      <td>Surgeons to remove   year old s rib to rebuild damaged throat   CBS</td>\n",
       "      <td>http://www.cbs3springfield.com/story/26378648/surgeons-removed-4-year-olds-rib-to-rebuild-his-damaged-throat</td>\n",
       "      <td>WSHM-TV</td>\n",
       "      <td>m</td>\n",
       "      <td>dpcLMoJD69UYMXMxaoEFnWql9YjQM</td>\n",
       "      <td>www.cbs3springfield.com</td>\n",
       "      <td>1409229190251</td>\n",
       "      <td>[10021, 1, 2709, 65, 316, 2, 16383, 1, 10573, 8264, 4494, 1295]</td>\n",
       "      <td>12</td>\n",
       "      <td>2</td>\n",
       "    </tr>\n",
       "    <tr>\n",
       "      <td>422415</td>\n",
       "      <td>422415</td>\n",
       "      <td>422934</td>\n",
       "      <td>Boy to have surgery on esophagus after battery burns hole in throat</td>\n",
       "      <td>http://www.wlwt.com/news/boy-to-have-surgery-on-esophagus-after-battery-burns-hole-in-throat/27741396</td>\n",
       "      <td>WLWT Cincinnati</td>\n",
       "      <td>m</td>\n",
       "      <td>dpcLMoJD69UYMXMxaoEFnWql9YjQM</td>\n",
       "      <td>www.wlwt.com</td>\n",
       "      <td>1409229190508</td>\n",
       "      <td>[851, 1, 87, 1867, 7, 49616, 18, 1079, 7353, 3316, 4, 4494]</td>\n",
       "      <td>12</td>\n",
       "      <td>2</td>\n",
       "    </tr>\n",
       "    <tr>\n",
       "      <td>422416</td>\n",
       "      <td>422416</td>\n",
       "      <td>422935</td>\n",
       "      <td>Child who swallowed battery to have reconstructive surgery at Cincinnati</td>\n",
       "      <td>http://www.newsnet5.com/news/local-news/child-who-swallowed-battery-to-have-reconstructive-surgery-at-cincinnati-childrens-hospital</td>\n",
       "      <td>NewsNet5.com</td>\n",
       "      <td>m</td>\n",
       "      <td>dpcLMoJD69UYMXMxaoEFnWql9YjQM</td>\n",
       "      <td>www.newsnet5.com</td>\n",
       "      <td>1409229190771</td>\n",
       "      <td>[663, 82, 14273, 1079, 1, 87, 18996, 1867, 12, 9222]</td>\n",
       "      <td>10</td>\n",
       "      <td>2</td>\n",
       "    </tr>\n",
       "    <tr>\n",
       "      <td>422417</td>\n",
       "      <td>422417</td>\n",
       "      <td>422936</td>\n",
       "      <td>Phoenix boy undergoes surgery to repair throat damage   WFSB   Connecticut</td>\n",
       "      <td>http://www.wfsb.com/story/26368078/phoenix-boy-undergoes-surgery-to-repair-throat-damage-from-button-battery</td>\n",
       "      <td>WFSB</td>\n",
       "      <td>m</td>\n",
       "      <td>dpcLMoJD69UYMXMxaoEFnWql9YjQM</td>\n",
       "      <td>www.wfsb.com</td>\n",
       "      <td>1409229191071</td>\n",
       "      <td>[5172, 851, 8580, 1867, 1, 4655, 4494, 2651, 5994, 3524]</td>\n",
       "      <td>10</td>\n",
       "      <td>2</td>\n",
       "    </tr>\n",
       "    <tr>\n",
       "      <td>422418</td>\n",
       "      <td>422418</td>\n",
       "      <td>422937</td>\n",
       "      <td>Phoenix boy undergoes surgery to repair throat damage   CBS   Springfield</td>\n",
       "      <td>http://www.cbs3springfield.com/story/26368078/phoenix-boy-undergoes-surgery-to-repair-throat-damage-from-button-battery</td>\n",
       "      <td>WSHM-TV</td>\n",
       "      <td>m</td>\n",
       "      <td>dpcLMoJD69UYMXMxaoEFnWql9YjQM</td>\n",
       "      <td>www.cbs3springfield.com</td>\n",
       "      <td>1409229191565</td>\n",
       "      <td>[5172, 851, 8580, 1867, 1, 4655, 4494, 2651, 1295, 4556]</td>\n",
       "      <td>10</td>\n",
       "      <td>2</td>\n",
       "    </tr>\n",
       "  </tbody>\n",
       "</table>\n",
       "<p>44172 rows × 12 columns</p>\n",
       "</div>"
      ],
      "text/plain": [
       "        Unnamed: 0      ID  \\\n",
       "4207    4207        4208     \n",
       "4208    4208        4209     \n",
       "4209    4209        4210     \n",
       "4210    4210        4211     \n",
       "4211    4211        4212     \n",
       "...      ...         ...     \n",
       "422414  422414      422933   \n",
       "422415  422415      422934   \n",
       "422416  422416      422935   \n",
       "422417  422417      422936   \n",
       "422418  422418      422937   \n",
       "\n",
       "                                                                                 TITLE  \\\n",
       "4207    Grown ups  Put down the smartphones at mealtime                                  \n",
       "4208    Cellphone addiction may damage parent child bond  Study                          \n",
       "4209    Parents won t stop using smartphones even while eating with kids                 \n",
       "4210    Smartphones making parents ignore their kids                                     \n",
       "4211    Smartphones can loosen emotional bonding with your children  Study               \n",
       "...                                                                    ...               \n",
       "422414  Surgeons to remove   year old s rib to rebuild damaged throat   CBS              \n",
       "422415  Boy to have surgery on esophagus after battery burns hole in throat              \n",
       "422416  Child who swallowed battery to have reconstructive surgery at Cincinnati         \n",
       "422417  Phoenix boy undergoes surgery to repair throat damage   WFSB   Connecticut       \n",
       "422418  Phoenix boy undergoes surgery to repair throat damage   CBS   Springfield        \n",
       "\n",
       "                                                                                                                                                URL  \\\n",
       "4207    http://www.ketknbc.com/news/grown-ups-put-down-the-smartphones-at-mealtime                                                                    \n",
       "4208    http://gadgets.ndtv.com/mobiles/news/cellphone-addiction-may-damage-parent-child-bond-study-494397                                            \n",
       "4209    http://www.mnn.com/family/family-activities/stories/parents-wont-stop-using-smartphones-even-while-eating-with-kids                           \n",
       "4210    http://timesofindia.indiatimes.com/life-style/relationships/parenting/Smartphones-making-parents-ignore-their-kids/articleshow/31850683.cms   \n",
       "4211    http://www.utahpeoplespost.com/2014/03/smartphones-can-loosen-emotional-bonding-with-your-children-study/                                     \n",
       "...                                                                                                           ...                                     \n",
       "422414  http://www.cbs3springfield.com/story/26378648/surgeons-removed-4-year-olds-rib-to-rebuild-his-damaged-throat                                  \n",
       "422415  http://www.wlwt.com/news/boy-to-have-surgery-on-esophagus-after-battery-burns-hole-in-throat/27741396                                         \n",
       "422416  http://www.newsnet5.com/news/local-news/child-who-swallowed-battery-to-have-reconstructive-surgery-at-cincinnati-childrens-hospital           \n",
       "422417  http://www.wfsb.com/story/26368078/phoenix-boy-undergoes-surgery-to-repair-throat-damage-from-button-battery                                  \n",
       "422418  http://www.cbs3springfield.com/story/26368078/phoenix-boy-undergoes-surgery-to-repair-throat-damage-from-button-battery                       \n",
       "\n",
       "                     PUBLISHER CATEGORY                          STORY  \\\n",
       "4207    KETK                    m        dZphfxYr-HPiv2MLDkthjDyocSQCM   \n",
       "4208    NDTV                    m        dZphfxYr-HPiv2MLDkthjDyocSQCM   \n",
       "4209    Mother Nature Network   m        dZphfxYr-HPiv2MLDkthjDyocSQCM   \n",
       "4210    Times of India          m        dZphfxYr-HPiv2MLDkthjDyocSQCM   \n",
       "4211    The Utah People's Post  m        dZphfxYr-HPiv2MLDkthjDyocSQCM   \n",
       "...                        ... ..                                  ...   \n",
       "422414  WSHM-TV                 m        dpcLMoJD69UYMXMxaoEFnWql9YjQM   \n",
       "422415  WLWT Cincinnati         m        dpcLMoJD69UYMXMxaoEFnWql9YjQM   \n",
       "422416  NewsNet5.com            m        dpcLMoJD69UYMXMxaoEFnWql9YjQM   \n",
       "422417  WFSB                    m        dpcLMoJD69UYMXMxaoEFnWql9YjQM   \n",
       "422418  WSHM-TV                 m        dpcLMoJD69UYMXMxaoEFnWql9YjQM   \n",
       "\n",
       "                           HOSTNAME      TIMESTAMP  \\\n",
       "4207    www.ketknbc.com              1394547690684   \n",
       "4208    gadgets.ndtv.com             1394547690827   \n",
       "4209    www.mnn.com                  1394547691052   \n",
       "4210    timesofindia.indiatimes.com  1394547691288   \n",
       "4211    www.utahpeoplespost.com      1394547691482   \n",
       "...                         ...                ...   \n",
       "422414  www.cbs3springfield.com      1409229190251   \n",
       "422415  www.wlwt.com                 1409229190508   \n",
       "422416  www.newsnet5.com             1409229190771   \n",
       "422417  www.wfsb.com                 1409229191071   \n",
       "422418  www.cbs3springfield.com      1409229191565   \n",
       "\n",
       "                                                                  words  \\\n",
       "4207    [2576, 1881, 1103, 90, 3, 1478, 12, 16710]                        \n",
       "4208    [4248, 5131, 33, 2651, 4474, 663, 1128, 78]                       \n",
       "4209    [1328, 353, 21, 488, 841, 1478, 758, 603, 1619, 10, 414]          \n",
       "4210    [1478, 804, 1328, 4750, 239, 414]                                 \n",
       "4211    [1478, 77, 14869, 1931, 16711, 10, 52, 504, 78]                   \n",
       "...                                                 ...                   \n",
       "422414  [10021, 1, 2709, 65, 316, 2, 16383, 1, 10573, 8264, 4494, 1295]   \n",
       "422415  [851, 1, 87, 1867, 7, 49616, 18, 1079, 7353, 3316, 4, 4494]       \n",
       "422416  [663, 82, 14273, 1079, 1, 87, 18996, 1867, 12, 9222]              \n",
       "422417  [5172, 851, 8580, 1867, 1, 4655, 4494, 2651, 5994, 3524]          \n",
       "422418  [5172, 851, 8580, 1867, 1, 4655, 4494, 2651, 1295, 4556]          \n",
       "\n",
       "        word_length  c2id  \n",
       "4207    8            2     \n",
       "4208    8            2     \n",
       "4209    11           2     \n",
       "4210    6            2     \n",
       "4211    9            2     \n",
       "...    ..           ..     \n",
       "422414  12           2     \n",
       "422415  12           2     \n",
       "422416  10           2     \n",
       "422417  10           2     \n",
       "422418  10           2     \n",
       "\n",
       "[44172 rows x 12 columns]"
      ]
     },
     "execution_count": 80,
     "metadata": {},
     "output_type": "execute_result"
    }
   ],
   "source": [
    "news_2[news_2['CATEGORY'] == 'm']"
   ]
  },
  {
   "cell_type": "code",
   "execution_count": 85,
   "metadata": {},
   "outputs": [
    {
     "name": "stdout",
     "output_type": "stream",
     "text": [
      "[[7.1648472e-05 7.4147754e-03 9.9238878e-01 1.2481149e-04]] 2\n"
     ]
    }
   ],
   "source": [
    "max_len=50\n",
    "txt = [\"Boy to have surgery on esophagus after battery burns hole in throat\"]\n",
    "seq = tokenizer.texts_to_sequences(txt)\n",
    "padded = pad_sequences(seq, maxlen=max_len)\n",
    "pred = TextCNN.predict(padded)\n",
    "labels = ['entertainment', 'bussiness', 'science/tech', 'health']\n",
    "print(pred, np.argmax(pred))"
   ]
  },
  {
   "cell_type": "code",
   "execution_count": 73,
   "metadata": {},
   "outputs": [],
   "source": [
    "from keras import metrics\n",
    "#use another evaluation method\n",
    "TextCNN.compile(loss='mean_squared_error',\n",
    "              optimizer='sgd',\n",
    "              metrics=[metrics.mae, metrics.categorical_accuracy])"
   ]
  },
  {
   "cell_type": "code",
   "execution_count": 78,
   "metadata": {},
   "outputs": [
    {
     "name": "stdout",
     "output_type": "stream",
     "text": [
      "Train on 326476 samples, validate on 81619 samples\n",
      "Epoch 1/20\n",
      "326476/326476 [==============================] - 11s 34us/step - loss: 0.0360 - mean_absolute_error: 0.0730 - categorical_accuracy: 0.9032 - val_loss: 0.0280 - val_mean_absolute_error: 0.0587 - val_categorical_accuracy: 0.9260\n",
      "Epoch 2/20\n",
      "326476/326476 [==============================] - 10s 32us/step - loss: 0.0357 - mean_absolute_error: 0.0717 - categorical_accuracy: 0.9035 - val_loss: 0.0279 - val_mean_absolute_error: 0.0579 - val_categorical_accuracy: 0.9262\n",
      "Epoch 3/20\n",
      "326476/326476 [==============================] - 10s 32us/step - loss: 0.0356 - mean_absolute_error: 0.0709 - categorical_accuracy: 0.9039 - val_loss: 0.0278 - val_mean_absolute_error: 0.0574 - val_categorical_accuracy: 0.9263\n",
      "Epoch 4/20\n",
      "326476/326476 [==============================] - 10s 32us/step - loss: 0.0354 - mean_absolute_error: 0.0702 - categorical_accuracy: 0.9046 - val_loss: 0.0278 - val_mean_absolute_error: 0.0570 - val_categorical_accuracy: 0.9265\n",
      "Epoch 5/20\n",
      "326476/326476 [==============================] - 10s 32us/step - loss: 0.0351 - mean_absolute_error: 0.0696 - categorical_accuracy: 0.9056 - val_loss: 0.0277 - val_mean_absolute_error: 0.0566 - val_categorical_accuracy: 0.9265\n",
      "Epoch 6/20\n",
      "326476/326476 [==============================] - 10s 32us/step - loss: 0.0351 - mean_absolute_error: 0.0692 - categorical_accuracy: 0.9056 - val_loss: 0.0277 - val_mean_absolute_error: 0.0563 - val_categorical_accuracy: 0.9264\n",
      "Epoch 7/20\n",
      "326476/326476 [==============================] - 10s 32us/step - loss: 0.0351 - mean_absolute_error: 0.0689 - categorical_accuracy: 0.9052 - val_loss: 0.0277 - val_mean_absolute_error: 0.0561 - val_categorical_accuracy: 0.9264\n",
      "Epoch 8/20\n",
      "326476/326476 [==============================] - 11s 32us/step - loss: 0.0350 - mean_absolute_error: 0.0688 - categorical_accuracy: 0.9053 - val_loss: 0.0276 - val_mean_absolute_error: 0.0559 - val_categorical_accuracy: 0.9266\n",
      "Epoch 9/20\n",
      "326476/326476 [==============================] - 11s 32us/step - loss: 0.0348 - mean_absolute_error: 0.0682 - categorical_accuracy: 0.9060 - val_loss: 0.0276 - val_mean_absolute_error: 0.0557 - val_categorical_accuracy: 0.9264\n",
      "Epoch 10/20\n",
      "326476/326476 [==============================] - 10s 32us/step - loss: 0.0349 - mean_absolute_error: 0.0683 - categorical_accuracy: 0.9056 - val_loss: 0.0276 - val_mean_absolute_error: 0.0556 - val_categorical_accuracy: 0.9266\n",
      "Epoch 11/20\n",
      "326476/326476 [==============================] - 11s 32us/step - loss: 0.0347 - mean_absolute_error: 0.0679 - categorical_accuracy: 0.9064 - val_loss: 0.0275 - val_mean_absolute_error: 0.0555 - val_categorical_accuracy: 0.9267\n",
      "Epoch 12/20\n",
      "326476/326476 [==============================] - 11s 32us/step - loss: 0.0347 - mean_absolute_error: 0.0680 - categorical_accuracy: 0.9063 - val_loss: 0.0276 - val_mean_absolute_error: 0.0553 - val_categorical_accuracy: 0.9269\n",
      "Epoch 13/20\n",
      "326476/326476 [==============================] - 11s 32us/step - loss: 0.0347 - mean_absolute_error: 0.0677 - categorical_accuracy: 0.9065 - val_loss: 0.0275 - val_mean_absolute_error: 0.0552 - val_categorical_accuracy: 0.9269\n",
      "Epoch 14/20\n",
      "326476/326476 [==============================] - 11s 32us/step - loss: 0.0348 - mean_absolute_error: 0.0678 - categorical_accuracy: 0.9067 - val_loss: 0.0275 - val_mean_absolute_error: 0.0551 - val_categorical_accuracy: 0.9268\n",
      "Epoch 15/20\n",
      "326476/326476 [==============================] - 11s 32us/step - loss: 0.0347 - mean_absolute_error: 0.0674 - categorical_accuracy: 0.9061 - val_loss: 0.0275 - val_mean_absolute_error: 0.0551 - val_categorical_accuracy: 0.9269\n",
      "Epoch 16/20\n",
      "326476/326476 [==============================] - 11s 32us/step - loss: 0.0347 - mean_absolute_error: 0.0675 - categorical_accuracy: 0.9066 - val_loss: 0.0275 - val_mean_absolute_error: 0.0550 - val_categorical_accuracy: 0.9269\n",
      "Epoch 17/20\n",
      "326476/326476 [==============================] - 11s 32us/step - loss: 0.0346 - mean_absolute_error: 0.0674 - categorical_accuracy: 0.9067 - val_loss: 0.0275 - val_mean_absolute_error: 0.0549 - val_categorical_accuracy: 0.9270\n",
      "Epoch 18/20\n",
      "326476/326476 [==============================] - 11s 32us/step - loss: 0.0347 - mean_absolute_error: 0.0674 - categorical_accuracy: 0.9064 - val_loss: 0.0274 - val_mean_absolute_error: 0.0549 - val_categorical_accuracy: 0.9270\n",
      "Epoch 19/20\n",
      "326476/326476 [==============================] - 11s 32us/step - loss: 0.0346 - mean_absolute_error: 0.0672 - categorical_accuracy: 0.9068 - val_loss: 0.0274 - val_mean_absolute_error: 0.0548 - val_categorical_accuracy: 0.9271\n",
      "Epoch 20/20\n",
      "326476/326476 [==============================] - 10s 32us/step - loss: 0.0346 - mean_absolute_error: 0.0672 - categorical_accuracy: 0.9062 - val_loss: 0.0274 - val_mean_absolute_error: 0.0547 - val_categorical_accuracy: 0.9271\n"
     ]
    }
   ],
   "source": [
    "textcnn_history = TextCNN.fit(x_train, y_train, batch_size=128, epochs=20, validation_data=(x_val, y_val))"
   ]
  },
  {
   "cell_type": "code",
   "execution_count": null,
   "metadata": {},
   "outputs": [],
   "source": []
  },
  {
   "cell_type": "code",
   "execution_count": 86,
   "metadata": {},
   "outputs": [],
   "source": [
    "#now, we gonna to use another model to evaluate our model"
   ]
  },
  {
   "cell_type": "code",
   "execution_count": 94,
   "metadata": {},
   "outputs": [
    {
     "name": "stdout",
     "output_type": "stream",
     "text": [
      "41516     0\n",
      "12655     0\n",
      "4345      0\n",
      "135227    3\n",
      "45467     1\n",
      "14016     0\n",
      "140740    3\n",
      "65308     1\n",
      "95331     2\n",
      "89817     1\n",
      "Name: LABEL, dtype: int64\n",
      "[[1. 0. 0. 0.]\n",
      " [1. 0. 0. 0.]\n",
      " [1. 0. 0. 0.]\n",
      " [0. 0. 0. 1.]\n",
      " [0. 1. 0. 0.]\n",
      " [1. 0. 0. 0.]\n",
      " [0. 0. 0. 1.]\n",
      " [0. 1. 0. 0.]\n",
      " [0. 0. 1. 0.]\n",
      " [0. 1. 0. 0.]]\n"
     ]
    }
   ],
   "source": [
    "from keras.utils.np_utils import to_categorical\n",
    "num_of_categories = 45000\n",
    "shuffled = news_2.reindex(np.random.permutation(news_2.index))\n",
    "e = shuffled[shuffled['CATEGORY'] == 'e'][:num_of_categories]\n",
    "b = shuffled[shuffled['CATEGORY'] == 'b'][:num_of_categories]\n",
    "t = shuffled[shuffled['CATEGORY'] == 't'][:num_of_categories]\n",
    "m = shuffled[shuffled['CATEGORY'] == 'm'][:num_of_categories]\n",
    "concated = pd.concat([e,b,t,m], ignore_index=True)\n",
    "#Shuffle the dataset\n",
    "concated = concated.reindex(np.random.permutation(concated.index))\n",
    "concated['LABEL'] = 0\n",
    "\n",
    "\n",
    "concated.loc[concated['CATEGORY'] == 'e', 'LABEL'] = 0\n",
    "concated.loc[concated['CATEGORY'] == 'b', 'LABEL'] = 1\n",
    "concated.loc[concated['CATEGORY'] == 't', 'LABEL'] = 2\n",
    "concated.loc[concated['CATEGORY'] == 'm', 'LABEL'] = 3\n",
    "print(concated['LABEL'][:10])\n",
    "labels = to_categorical(concated['LABEL'], num_classes=4)\n",
    "print(labels[:10])\n",
    "if 'CATEGORY' in concated.keys():\n",
    "    concated.drop(['CATEGORY'], axis=1)"
   ]
  },
  {
   "cell_type": "code",
   "execution_count": 95,
   "metadata": {},
   "outputs": [
    {
     "name": "stdout",
     "output_type": "stream",
     "text": [
      "Found 36766 unique tokens.\n"
     ]
    }
   ],
   "source": [
    "n_most_common_words = 8000\n",
    "max_len = 130\n",
    "tokenizer = Tokenizer(num_words=n_most_common_words, filters='!\"#$%&()*+,-./:;<=>?@[\\]^_`{|}~', lower=True)\n",
    "tokenizer.fit_on_texts(concated['TITLE'].values)\n",
    "sequences = tokenizer.texts_to_sequences(concated['TITLE'].values)\n",
    "word_index = tokenizer.word_index\n",
    "print('Found %s unique tokens.' % len(word_index))\n",
    "\n",
    "X = pad_sequences(sequences, maxlen=max_len)"
   ]
  },
  {
   "cell_type": "code",
   "execution_count": 96,
   "metadata": {},
   "outputs": [],
   "source": [
    "X_train, X_test, y_train, y_test = train_test_split(X , labels, test_size=0.25, random_state=42)"
   ]
  },
  {
   "cell_type": "code",
   "execution_count": 99,
   "metadata": {},
   "outputs": [
    {
     "name": "stdout",
     "output_type": "stream",
     "text": [
      "((134379, 130), (134379, 4), (44793, 130), (44793, 4))\n",
      "_________________________________________________________________\n",
      "Layer (type)                 Output Shape              Param #   \n",
      "=================================================================\n",
      "embedding_3 (Embedding)      (None, 130, 128)          1024000   \n",
      "_________________________________________________________________\n",
      "spatial_dropout1d_2 (Spatial (None, 130, 128)          0         \n",
      "_________________________________________________________________\n",
      "lstm_2 (LSTM)                (None, 64)                49408     \n",
      "_________________________________________________________________\n",
      "dense_3 (Dense)              (None, 4)                 260       \n",
      "=================================================================\n",
      "Total params: 1,073,668\n",
      "Trainable params: 1,073,668\n",
      "Non-trainable params: 0\n",
      "_________________________________________________________________\n",
      "None\n"
     ]
    },
    {
     "name": "stderr",
     "output_type": "stream",
     "text": [
      "W0508 14:40:11.947212 40180 deprecation.py:323] From C:\\Apps\\Anaconda3\\envs\\gpu-cuda10\\lib\\site-packages\\tensorflow\\python\\ops\\math_grad.py:1250: add_dispatch_support.<locals>.wrapper (from tensorflow.python.ops.array_ops) is deprecated and will be removed in a future version.\n",
      "Instructions for updating:\n",
      "Use tf.where in 2.0, which has the same broadcast rule as np.where\n"
     ]
    },
    {
     "name": "stdout",
     "output_type": "stream",
     "text": [
      "Train on 107503 samples, validate on 26876 samples\n",
      "Epoch 1/20\n",
      "107503/107503 [==============================] - 78s 728us/step - loss: 0.8624 - acc: 0.6465 - val_loss: 0.3082 - val_acc: 0.8956\n",
      "Epoch 2/20\n",
      "107503/107503 [==============================] - 77s 719us/step - loss: 0.3690 - acc: 0.8732 - val_loss: 0.2374 - val_acc: 0.9202\n",
      "Epoch 3/20\n",
      "107503/107503 [==============================] - 77s 721us/step - loss: 0.2929 - acc: 0.9015 - val_loss: 0.2137 - val_acc: 0.9270\n",
      "Epoch 4/20\n",
      "107503/107503 [==============================] - 78s 724us/step - loss: 0.2576 - acc: 0.9142 - val_loss: 0.2039 - val_acc: 0.9292\n",
      "Epoch 5/20\n",
      "107503/107503 [==============================] - 78s 722us/step - loss: 0.2371 - acc: 0.9206 - val_loss: 0.1988 - val_acc: 0.9319\n",
      "Epoch 6/20\n",
      "107503/107503 [==============================] - 77s 720us/step - loss: 0.2227 - acc: 0.9263 - val_loss: 0.1944 - val_acc: 0.9334\n",
      "Epoch 7/20\n",
      "107503/107503 [==============================] - 78s 722us/step - loss: 0.2124 - acc: 0.9290 - val_loss: 0.1928 - val_acc: 0.9342\n",
      "Epoch 8/20\n",
      "107503/107503 [==============================] - 78s 723us/step - loss: 0.2047 - acc: 0.9317 - val_loss: 0.1929 - val_acc: 0.9351\n",
      "Epoch 9/20\n",
      "107503/107503 [==============================] - 78s 724us/step - loss: 0.1965 - acc: 0.9344 - val_loss: 0.1929 - val_acc: 0.9341\n",
      "Epoch 10/20\n",
      "107503/107503 [==============================] - 77s 719us/step - loss: 0.1942 - acc: 0.9357 - val_loss: 0.1916 - val_acc: 0.9359\n",
      "Epoch 11/20\n",
      "107503/107503 [==============================] - 78s 722us/step - loss: 0.1900 - acc: 0.9367 - val_loss: 0.1926 - val_acc: 0.9354\n",
      "Epoch 12/20\n",
      "107503/107503 [==============================] - 77s 719us/step - loss: 0.1831 - acc: 0.9388 - val_loss: 0.1909 - val_acc: 0.9356\n",
      "Epoch 13/20\n",
      "107503/107503 [==============================] - 78s 721us/step - loss: 0.1786 - acc: 0.9401 - val_loss: 0.1923 - val_acc: 0.9360\n",
      "Epoch 14/20\n",
      "107503/107503 [==============================] - 77s 719us/step - loss: 0.1768 - acc: 0.9397 - val_loss: 0.1912 - val_acc: 0.9366\n",
      "Epoch 15/20\n",
      "107503/107503 [==============================] - 77s 721us/step - loss: 0.1714 - acc: 0.9423 - val_loss: 0.1930 - val_acc: 0.9363\n",
      "Epoch 16/20\n",
      "107503/107503 [==============================] - 78s 722us/step - loss: 0.1701 - acc: 0.9429 - val_loss: 0.1923 - val_acc: 0.9362\n",
      "Epoch 17/20\n",
      "107503/107503 [==============================] - 78s 723us/step - loss: 0.1665 - acc: 0.9437 - val_loss: 0.1950 - val_acc: 0.9357\n",
      "Epoch 18/20\n",
      "107503/107503 [==============================] - 77s 721us/step - loss: 0.1656 - acc: 0.9433 - val_loss: 0.1966 - val_acc: 0.9362\n",
      "Epoch 19/20\n",
      "107503/107503 [==============================] - 78s 721us/step - loss: 0.1635 - acc: 0.9442 - val_loss: 0.1973 - val_acc: 0.9361\n"
     ]
    }
   ],
   "source": [
    "print((X_train.shape, y_train.shape, X_test.shape, y_test.shape))\n",
    "from keras.callbacks import EarlyStopping\n",
    "epochs = 20\n",
    "emb_dim = 128\n",
    "batch_size = 256\n",
    "labels[:2]\n",
    "\n",
    "\n",
    "model = Sequential()\n",
    "model.add(Embedding(n_most_common_words, emb_dim, input_length=X.shape[1]))\n",
    "model.add(SpatialDropout1D(0.7))\n",
    "model.add(LSTM(64, dropout=0.7, recurrent_dropout=0.7))\n",
    "model.add(Dense(4, activation='softmax'))\n",
    "model.compile(optimizer='adam', loss='categorical_crossentropy', metrics=['acc'])\n",
    "print(model.summary())\n",
    "history = model.fit(X_train, y_train, epochs=epochs, batch_size=batch_size,validation_split=0.2,callbacks=[EarlyStopping(monitor='val_loss',patience=7, min_delta=0.0001)])"
   ]
  },
  {
   "cell_type": "code",
   "execution_count": 87,
   "metadata": {},
   "outputs": [],
   "source": [
    "#https://www.kaggle.com/alfarias/huffpost-news-classification-with-distilbert\n",
    "#https://www.kaggle.com/vikashrajluhaniwal/recommending-news-articles-based-on-read-articles"
   ]
  },
  {
   "cell_type": "code",
   "execution_count": 88,
   "metadata": {},
   "outputs": [],
   "source": [
    "#下面做长文本的处理流程，上面的预测应该ok了，也可以扯cnn来处理，看有没有时间弄\n",
    "#https://www.kaggle.com/voyager2511/bbc-text-categorization/edit"
   ]
  },
  {
   "cell_type": "code",
   "execution_count": 100,
   "metadata": {},
   "outputs": [
    {
     "name": "stdout",
     "output_type": "stream",
     "text": [
      "44793/44793 [==============================] - 118s 3ms/step\n",
      "Test set\n",
      "  Loss: 0.204\n",
      "  Accuracy: 0.934\n"
     ]
    }
   ],
   "source": [
    "accr = model.evaluate(X_test,y_test)\n",
    "print('Test set\\n  Loss: {:0.3f}\\n  Accuracy: {:0.3f}'.format(accr[0],accr[1]))"
   ]
  },
  {
   "cell_type": "code",
   "execution_count": 104,
   "metadata": {},
   "outputs": [
    {
     "name": "stdout",
     "output_type": "stream",
     "text": [
      "[[0.00100449 0.00321618 0.00470354 0.9910759 ]] 3\n"
     ]
    }
   ],
   "source": [
    "max_len=50\n",
    "txt = [\"Boy to have surgery on esophagus after battery burns hole in throat\"]\n",
    "txt = ['Regular fast food eating linked to fertility issues in women']\n",
    "txt = ['Coronavirus: Sickest patients face long recovery']\n",
    "seq = tokenizer.texts_to_sequences(txt)\n",
    "padded = pad_sequences(seq, maxlen=max_len)\n",
    "pred = TextCNN.predict(padded)\n",
    "labels = ['entertainment', 'bussiness', 'science/tech', 'health']\n",
    "print(pred, np.argmax(pred))"
   ]
  },
  {
   "cell_type": "code",
   "execution_count": null,
   "metadata": {},
   "outputs": [],
   "source": []
  }
 ],
 "metadata": {
  "kernelspec": {
   "display_name": "Python 3",
   "language": "python",
   "name": "python3"
  },
  "language_info": {
   "codemirror_mode": {
    "name": "ipython",
    "version": 3
   },
   "file_extension": ".py",
   "mimetype": "text/x-python",
   "name": "python",
   "nbconvert_exporter": "python",
   "pygments_lexer": "ipython3",
   "version": "3.6.9"
  }
 },
 "nbformat": 4,
 "nbformat_minor": 4
}
